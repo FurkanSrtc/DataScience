{
 "cells": [
  {
   "cell_type": "markdown",
   "metadata": {},
   "source": [
    "# <font color=blue>Assignments for \"Main Statistical Concepts\"</font>"
   ]
  },
  {
   "cell_type": "markdown",
   "metadata": {},
   "source": [
    "Bu soruda, merkezi limit teoreminin çalışıp çalışmadığını test edeceksiniz. İki adet normal dağılıma sahip 1000 gözlem içeren değişken üreteceksiniz. Bu değişkenlerin, ortalama ve standart sapmasını kendiniz belirleyebilirsiniz. Yapmanız gereken, ilk değişkeni 50 kere üretin ve her seferinde bu değişkenin ortalamasını alın. İkinci değişkeni ise 1000 kere üretin ve yine her seferinde bu değişkenin ortalamasını alın. Daha sonra, iki değişkenin hesapladığınız ortalamalarının histogramını çizdirin. Hangi değişkenin ortalamalarının dağılımı normal dağılıma daha yakın? Sizce Merkezi Limit Theoremi çalışmış görünüyor mu?"
   ]
  },
  {
   "cell_type": "markdown",
   "metadata": {},
   "source": [
    "Please upload your solutions to the following assignments as Jupyter Notebook to your GitHub account and share the GitHub link with the button below. You can talk to your mentor about your mind or ask Slack at office time.\n",
    "\n",
    "1. In this assignment, you test whether the central limit theorem works. You generate 1000 variables with two normal distributions. You can determine the mean and standard deviation of these variables yourself. All you have to do is generate the first variable 50 times and averaged it each time. Generate the second variable 1000 times and averages this variable each time. Then plot the histogram of the averages of the two variables. Which of the variables has a mean distribution closer to the normal distribution? Do you think the Central Limit Theorem seems to have worked?"
   ]
  },
  {
   "cell_type": "code",
   "execution_count": 10,
   "metadata": {},
   "outputs": [
    {
     "data": {
      "image/png": "[encoded data removed]",
      "text/plain": [
       "<Figure size 576x360 with 2 Axes>"
      ]
     },
     "metadata": {
      "needs_background": "light"
     },
     "output_type": "display_data"
    }
   ],
   "source": [
    "import matplotlib.pyplot as plt\n",
    "import numpy as np\n",
    "\n",
    "means1=[]\n",
    "means2=[]\n",
    "\n",
    "for i in range(50):\n",
    "    population = np.random.normal(10, 0.2, 10000)\n",
    "    means1.append(np.mean(population))\n",
    "for i in range(1000):\n",
    "    population = np.random.normal(10, 0.2, 10000)\n",
    "    means2.append(np.mean(population))\n",
    "\n",
    "\n",
    "\n",
    "plt.figure(figsize=(8,5))\n",
    "plt.subplot(1,2,1)\n",
    "plt.hist(means2, alpha=0.5, label='1000 values') \n",
    "plt.legend(loc='upper right') \n",
    "plt.subplot(1,2,2)\n",
    "plt.hist(means1, alpha=0.5, label='50 values') \n",
    "plt.legend(loc='upper right') \n",
    "\n",
    "plt.show()"
   ]
  },
  {
   "cell_type": "markdown",
   "metadata": {},
   "source": [
    "number of samples increases, the average of the sample distribution approaches the same population average."
   ]
  },
  {
   "cell_type": "code",
   "execution_count": null,
   "metadata": {},
   "outputs": [],
   "source": []
  }
 ],
 "metadata": {
  "kernelspec": {
   "display_name": "Python 3",
   "language": "python",
   "name": "python3"
  },
  "language_info": {
   "codemirror_mode": {
    "name": "ipython",
    "version": 3
   },
   "file_extension": ".py",
   "mimetype": "text/x-python",
   "name": "python",
   "nbconvert_exporter": "python",
   "pygments_lexer": "ipython3",
   "version": "3.8.3"
  }
 },
 "nbformat": 4,
 "nbformat_minor": 4
}
