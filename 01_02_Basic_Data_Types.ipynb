{
 "cells": [
  {
   "cell_type": "markdown",
   "metadata": {},
   "source": [
    "### 1-Suppose you invested in Bitcoin at the end of 2017 when Bitcoin gained a lot of value. What would be your money at the end of a week if you had invested $1000 with an average daily increase of 12\\% ? You can solve the problem using Python."
   ]
  },
  {
   "cell_type": "code",
   "execution_count": 5,
   "metadata": {},
   "outputs": [
    {
     "name": "stdout",
     "output_type": "stream",
     "text": [
      "1840.0\n"
     ]
    }
   ],
   "source": [
    "dailyGrowth=12\n",
    "variableCapital=1000\n",
    "period=7\n",
    "finalGrowth=((variableCapital*dailyGrowth)/100)*period+variableCapital\n",
    "print(finalGrowth)"
   ]
  },
  {
   "cell_type": "markdown",
   "metadata": {},
   "source": [
    "### 2-Print the text in quotes with Python. However, you must get the numbers from variables using .format() notation.\n",
    "Because the text is long, you might consider writing in two lines:"
   ]
  },
  {
   "cell_type": "code",
   "execution_count": 9,
   "metadata": {},
   "outputs": [
    {
     "name": "stdout",
     "output_type": "stream",
     "text": [
      "`\"When we buy bitcoin with 1000 USD at the beginning of the week, we would earn 1210.68 USD at the end of the week, with an average gain of 12\\%.\"`\n"
     ]
    }
   ],
   "source": [
    " print(\"`\\\"When we buy bitcoin with {} USD at the beginning of the week, we would earn {} USD at the end of the week, with an average gain of {}\\%.\\\"`\".format(1000,1210.68,12))"
   ]
  },
  {
   "cell_type": "markdown",
   "metadata": {},
   "source": [
    "### 3-Get the temperature in Fahrenheit from user and write a code to convert it to Celcius. "
   ]
  },
  {
   "cell_type": "code",
   "execution_count": 14,
   "metadata": {},
   "outputs": [
    {
     "name": "stdin",
     "output_type": "stream",
     "text": [
      "Enter the temperature in Fahrenheit:  100\n"
     ]
    },
    {
     "name": "stdout",
     "output_type": "stream",
     "text": [
      "Temperature (C) :37.77777777777778\n"
     ]
    }
   ],
   "source": [
    "f= float(input(\"Enter the temperature in Fahrenheit: \"))\n",
    "c = (5/9) * (f - 32)\n",
    "print(\"Temperature (C) :\"+ str(c))"
   ]
  },
  {
   "cell_type": "markdown",
   "metadata": {},
   "source": [
    "### 4-Get a three digit number the from user and calculate the sum of the digits in the integer."
   ]
  },
  {
   "cell_type": "code",
   "execution_count": 34,
   "metadata": {},
   "outputs": [
    {
     "name": "stdin",
     "output_type": "stream",
     "text": [
      "three digit number:  365\n"
     ]
    },
    {
     "name": "stdout",
     "output_type": "stream",
     "text": [
      "14\n"
     ]
    }
   ],
   "source": [
    "number= int(input(\"three digit number: \"))\n",
    "three=number%10\n",
    "two=((number%100)-three)/10\n",
    "one=(number-(number%100))/100\n",
    "print(int(one+two+three))\n"
   ]
  },
  {
   "cell_type": "markdown",
   "metadata": {},
   "source": [
    "### 5-Write some code to calculate the hypotenuse of a right angled triangle. Get the side lengths from the user."
   ]
  },
  {
   "cell_type": "code",
   "execution_count": 41,
   "metadata": {},
   "outputs": [
    {
     "name": "stdin",
     "output_type": "stream",
     "text": [
      "Side Length1:  3\n",
      "Side Length2:  4\n"
     ]
    },
    {
     "name": "stdout",
     "output_type": "stream",
     "text": [
      "hypotenuse:  5\n"
     ]
    }
   ],
   "source": [
    "sideLength1= int(input(\"Side Length1: \"))\n",
    "sideLength2= int(input(\"Side Length2: \"))\n",
    "hypotenuse=((sideLength1**2)+(sideLength2**2))**0.5\n",
    "print(\"hypotenuse: \",int(hypotenuse))"
   ]
  },
  {
   "cell_type": "code",
   "execution_count": null,
   "metadata": {},
   "outputs": [],
   "source": []
  }
 ],
 "metadata": {
  "kernelspec": {
   "display_name": "Python 3",
   "language": "python",
   "name": "python3"
  },
  "language_info": {
   "codemirror_mode": {
    "name": "ipython",
    "version": 3
   },
   "file_extension": ".py",
   "mimetype": "text/x-python",
   "name": "python",
   "nbconvert_exporter": "python",
   "pygments_lexer": "ipython3",
   "version": "3.8.3"
  }
 },
 "nbformat": 4,
 "nbformat_minor": 4
}
