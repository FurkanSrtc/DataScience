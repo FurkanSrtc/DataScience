{
 "cells": [
  {
   "cell_type": "markdown",
   "metadata": {},
   "source": [
    "## ASSIGNMENT\n",
    "#### In this assignment, you continue to study the data of the US Education System. Again, please down it from here (dataset). In this dataset, there is a lot of data on an annual basis. You can reach the explanations of this data from Kaggle again.\n",
    "\n",
    "#### First of all, apply the most appropriate one of the techniques for completing the missing values in your previous lesson. In order to answer the following questions, you must overcome the missing data.\n",
    "\n",
    "#### 1-See TOTAL_REVENUE, which includes total revenue data, and TOTAL_EXPENDITURE, which includes total spending data. Do these variables contain outliers?\n"
   ]
  },
  {
   "cell_type": "code",
   "execution_count": 2,
   "metadata": {},
   "outputs": [],
   "source": [
    "import matplotlib.pyplot as plt\n",
    "import numpy as np\n",
    "import pandas as pd\n",
    "import warnings\n",
    "\n",
    "warnings.filterwarnings('ignore')\n",
    "df = pd.read_csv('data/datasets_95317_1078789_states_all.csv',  low_memory=False)\n"
   ]
  },
  {
   "cell_type": "code",
   "execution_count": 3,
   "metadata": {},
   "outputs": [
    {
     "name": "stdout",
     "output_type": "stream",
     "text": [
      "0        2678885.0\n",
      "1        1049591.0\n",
      "2        3258079.0\n",
      "3        1711959.0\n",
      "4       26260025.0\n",
      "           ...    \n",
      "1710           NaN\n",
      "1711           NaN\n",
      "1712           NaN\n",
      "1713           NaN\n",
      "1714           NaN\n",
      "Name: TOTAL_REVENUE, Length: 1715, dtype: float64\n"
     ]
    }
   ],
   "source": [
    "print(df.TOTAL_REVENUE)"
   ]
  },
  {
   "cell_type": "code",
   "execution_count": 4,
   "metadata": {},
   "outputs": [
    {
     "name": "stdout",
     "output_type": "stream",
     "text": [
      "count    1.275000e+03\n",
      "mean     9.102045e+06\n",
      "std      1.175962e+07\n",
      "min      4.656500e+05\n",
      "25%      2.189504e+06\n",
      "50%      5.085826e+06\n",
      "75%      1.084516e+07\n",
      "max      8.921726e+07\n",
      "Name: TOTAL_REVENUE, dtype: float64\n"
     ]
    }
   ],
   "source": [
    "print(df.TOTAL_REVENUE.describe())"
   ]
  },
  {
   "cell_type": "code",
   "execution_count": 5,
   "metadata": {},
   "outputs": [
    {
     "name": "stdout",
     "output_type": "stream",
     "text": [
      "1275\n",
      "1715\n"
     ]
    },
    {
     "data": {
      "image/png": "[encoded data removed]",
      "text/plain": [
       "<Figure size 1080x360 with 2 Axes>"
      ]
     },
     "metadata": {
      "needs_background": "light"
     },
     "output_type": "display_data"
    }
   ],
   "source": [
    "print(len(df['TOTAL_REVENUE'].dropna()))\n",
    "print(len(df['TOTAL_REVENUE']))\n",
    "\n",
    "title_font = {'family': 'arial', 'color': 'darkred','weight': 'bold','size': 13 }\n",
    "axis_font  = {'family': 'arial', 'color': 'darkblue','weight': 'bold','size': 10 }\n",
    "\n",
    "\n",
    "plt.figure(figsize = (15,5))\n",
    "\n",
    "plt.subplot(1,2,1)\n",
    "plt.boxplot(df.TOTAL_REVENUE.dropna(),whis=4 )\n",
    "plt.title(\"TOTAL_REVENUE of States (whis=4)\", fontdict=title_font)\n",
    "\n",
    "plt.subplot(1,2,2)\n",
    "plt.boxplot(df.TOTAL_EXPENDITURE.dropna(),whis=4 )\n",
    "plt.title(\"TOTAL_EXPENDITURE of States (whis=4)\", fontdict=title_font)\n",
    "plt.show()"
   ]
  },
  {
   "cell_type": "code",
   "execution_count": 6,
   "metadata": {},
   "outputs": [
    {
     "name": "stdout",
     "output_type": "stream",
     "text": [
      "TOTAL_REVENUE\n",
      "Eşik değeri (Threshold value): 1\n",
      "Aykırı değerlerin sayısı(Number of Outliers): 134\n",
      "------------------------------------------------------------\n",
      "TOTAL_EXPENDITURE\n",
      "Eşik değeri (Threshold value): 1\n",
      "Aykırı değerlerin sayısı(Number of Outliers): 134\n",
      "||||||||||||||||||||||||||||||||||||||||||||||||||||||||||||||\n",
      "TOTAL_REVENUE\n",
      "Eşik değeri (Threshold value): 2\n",
      "Aykırı değerlerin sayısı(Number of Outliers): 52\n",
      "------------------------------------------------------------\n",
      "TOTAL_EXPENDITURE\n",
      "Eşik değeri (Threshold value): 2\n",
      "Aykırı değerlerin sayısı(Number of Outliers): 53\n",
      "||||||||||||||||||||||||||||||||||||||||||||||||||||||||||||||\n",
      "TOTAL_REVENUE\n",
      "Eşik değeri (Threshold value): 3\n",
      "Aykırı değerlerin sayısı(Number of Outliers): 37\n",
      "------------------------------------------------------------\n",
      "TOTAL_EXPENDITURE\n",
      "Eşik değeri (Threshold value): 3\n",
      "Aykırı değerlerin sayısı(Number of Outliers): 38\n",
      "||||||||||||||||||||||||||||||||||||||||||||||||||||||||||||||\n",
      "TOTAL_REVENUE\n",
      "Eşik değeri (Threshold value): 4\n",
      "Aykırı değerlerin sayısı(Number of Outliers): 21\n",
      "------------------------------------------------------------\n",
      "TOTAL_EXPENDITURE\n",
      "Eşik değeri (Threshold value): 4\n",
      "Aykırı değerlerin sayısı(Number of Outliers): 23\n",
      "||||||||||||||||||||||||||||||||||||||||||||||||||||||||||||||\n"
     ]
    }
   ],
   "source": [
    "from scipy.stats import zscore\n",
    "\n",
    "z_scores = zscore(df[\"TOTAL_REVENUE\"].dropna())\n",
    "z_scores2=zscore(df[\"TOTAL_EXPENDITURE\"].dropna())\n",
    "for threshold in range(1,5):\n",
    "    print('TOTAL_REVENUE')\n",
    "    print(\"Eşik değeri (Threshold value): {}\".format(threshold))\n",
    "    print(\"Aykırı değerlerin sayısı(Number of Outliers): {}\".format(len((np.where(z_scores > threshold)[0]))))\n",
    "    print('------------------------------------------------------------')\n",
    "    print('TOTAL_EXPENDITURE')\n",
    "    print(\"Eşik değeri (Threshold value): {}\".format(threshold))\n",
    "    print(\"Aykırı değerlerin sayısı(Number of Outliers): {}\".format(len((np.where(z_scores2 > threshold)[0]))))\n",
    "    print('||||||||||||||||||||||||||||||||||||||||||||||||||||||||||||||')"
   ]
  },
  {
   "cell_type": "markdown",
   "metadata": {},
   "source": [
    " \n",
    "\n",
    "#### 2-If you find outliers in the total income TOTAL_REVENUE and total expenditure TOTAL_EXPENDITURE variables, eliminate these outliers by applying the techniques you learned in this lesson and verify that no outliers remain after doing this.\n",
    " \n"
   ]
  },
  {
   "cell_type": "code",
   "execution_count": 7,
   "metadata": {},
   "outputs": [
    {
     "data": {
      "text/html": [
       "<div>\n",
       "<style scoped>\n",
       "    .dataframe tbody tr th:only-of-type {\n",
       "        vertical-align: middle;\n",
       "    }\n",
       "\n",
       "    .dataframe tbody tr th {\n",
       "        vertical-align: top;\n",
       "    }\n",
       "\n",
       "    .dataframe thead th {\n",
       "        text-align: right;\n",
       "    }\n",
       "</style>\n",
       "<table border=\"1\" class=\"dataframe\">\n",
       "  <thead>\n",
       "    <tr style=\"text-align: right;\">\n",
       "      <th></th>\n",
       "      <th>TOTAL_REVENUE threshold_value</th>\n",
       "      <th>TOTAL_REVENUE outlier_value_number</th>\n",
       "      <th>TOTAL_REVENUE outlier_value_number_log</th>\n",
       "      <th>TOTAL_EXPENDITURE threshold_value</th>\n",
       "      <th>TOTAL_EXPENDITURE outlier_value_number</th>\n",
       "      <th>TOTAL_EXPENDITURE outlier_value_number_log</th>\n",
       "    </tr>\n",
       "  </thead>\n",
       "  <tbody>\n",
       "    <tr>\n",
       "      <th>0</th>\n",
       "      <td>1.0</td>\n",
       "      <td>146</td>\n",
       "      <td>25</td>\n",
       "      <td>1.0</td>\n",
       "      <td>152</td>\n",
       "      <td>28</td>\n",
       "    </tr>\n",
       "    <tr>\n",
       "      <th>1</th>\n",
       "      <td>1.5</td>\n",
       "      <td>110</td>\n",
       "      <td>0</td>\n",
       "      <td>1.5</td>\n",
       "      <td>111</td>\n",
       "      <td>0</td>\n",
       "    </tr>\n",
       "    <tr>\n",
       "      <th>2</th>\n",
       "      <td>2.0</td>\n",
       "      <td>74</td>\n",
       "      <td>0</td>\n",
       "      <td>2.0</td>\n",
       "      <td>80</td>\n",
       "      <td>0</td>\n",
       "    </tr>\n",
       "    <tr>\n",
       "      <th>3</th>\n",
       "      <td>2.5</td>\n",
       "      <td>52</td>\n",
       "      <td>0</td>\n",
       "      <td>2.5</td>\n",
       "      <td>55</td>\n",
       "      <td>0</td>\n",
       "    </tr>\n",
       "    <tr>\n",
       "      <th>4</th>\n",
       "      <td>3.0</td>\n",
       "      <td>45</td>\n",
       "      <td>0</td>\n",
       "      <td>3.0</td>\n",
       "      <td>49</td>\n",
       "      <td>0</td>\n",
       "    </tr>\n",
       "    <tr>\n",
       "      <th>5</th>\n",
       "      <td>3.5</td>\n",
       "      <td>41</td>\n",
       "      <td>0</td>\n",
       "      <td>3.5</td>\n",
       "      <td>43</td>\n",
       "      <td>0</td>\n",
       "    </tr>\n",
       "    <tr>\n",
       "      <th>6</th>\n",
       "      <td>4.0</td>\n",
       "      <td>37</td>\n",
       "      <td>0</td>\n",
       "      <td>4.0</td>\n",
       "      <td>39</td>\n",
       "      <td>0</td>\n",
       "    </tr>\n",
       "    <tr>\n",
       "      <th>7</th>\n",
       "      <td>4.5</td>\n",
       "      <td>32</td>\n",
       "      <td>0</td>\n",
       "      <td>4.5</td>\n",
       "      <td>35</td>\n",
       "      <td>0</td>\n",
       "    </tr>\n",
       "  </tbody>\n",
       "</table>\n",
       "</div>"
      ],
      "text/plain": [
       "   TOTAL_REVENUE threshold_value  TOTAL_REVENUE outlier_value_number  \\\n",
       "0                            1.0                                 146   \n",
       "1                            1.5                                 110   \n",
       "2                            2.0                                  74   \n",
       "3                            2.5                                  52   \n",
       "4                            3.0                                  45   \n",
       "5                            3.5                                  41   \n",
       "6                            4.0                                  37   \n",
       "7                            4.5                                  32   \n",
       "\n",
       "   TOTAL_REVENUE outlier_value_number_log  TOTAL_EXPENDITURE threshold_value  \\\n",
       "0                                      25                                1.0   \n",
       "1                                       0                                1.5   \n",
       "2                                       0                                2.0   \n",
       "3                                       0                                2.5   \n",
       "4                                       0                                3.0   \n",
       "5                                       0                                3.5   \n",
       "6                                       0                                4.0   \n",
       "7                                       0                                4.5   \n",
       "\n",
       "   TOTAL_EXPENDITURE outlier_value_number  \\\n",
       "0                                     152   \n",
       "1                                     111   \n",
       "2                                      80   \n",
       "3                                      55   \n",
       "4                                      49   \n",
       "5                                      43   \n",
       "6                                      39   \n",
       "7                                      35   \n",
       "\n",
       "   TOTAL_EXPENDITURE outlier_value_number_log  \n",
       "0                                          28  \n",
       "1                                           0  \n",
       "2                                           0  \n",
       "3                                           0  \n",
       "4                                           0  \n",
       "5                                           0  \n",
       "6                                           0  \n",
       "7                                           0  "
      ]
     },
     "execution_count": 7,
     "metadata": {},
     "output_type": "execute_result"
    }
   ],
   "source": [
    "q75, q25 = np.percentile(df[\"TOTAL_REVENUE\"].dropna(), [75 ,25])\n",
    "IQR = q75 - q25\n",
    "\n",
    "q75_log, q25_log = np.percentile(np.log(df[\"TOTAL_REVENUE\"].dropna()), [75 ,25])\n",
    "IQR_log = q75_log - q25_log\n",
    "\n",
    "TEq75, TEq25 = np.percentile(df[\"TOTAL_EXPENDITURE\"].dropna(), [75 ,25])\n",
    "TEIQR = TEq75 - TEq25\n",
    "\n",
    "TEq75_log, TEq25_log = np.percentile(np.log(df[\"TOTAL_EXPENDITURE\"].dropna()), [75 ,25])\n",
    "TEIQR_log = TEq75_log - TEq25_log\n",
    "\n",
    "log_threshold_values=[]# = pd.DataFrame(columns=['threshold_value', 'outlier_value_number', 'outlier_value_number_log'])\n",
    "TElog_threshold_values=[]# = pd.DataFrame(columns=['threshold_value', 'outlier_value_number', 'outlier_value_number_log'])\n",
    "\n",
    "for threshold_value in np.arange(1,5,0.5):\n",
    "    min_value_log = q25_log - (IQR_log*threshold_value) \n",
    "    max_value_log = q75_log + (IQR_log*threshold_value)\n",
    "    min_value = q25 - (IQR*threshold_value) #withoutlog transformation\n",
    "    max_value = q75 + (IQR*threshold_value) #without log transformation\n",
    "    \n",
    "    TEmin_value_log = TEq25_log - (TEIQR_log*threshold_value) \n",
    "    TEmax_value_log = TEq75_log + (TEIQR_log*threshold_value)\n",
    "    TEmin_value = TEq25 - (TEIQR*threshold_value) #withoutlog transformation\n",
    "    TEmax_value = TEq75 + (TEIQR*threshold_value) #without log transformation\n",
    "    \n",
    "    outlier_value_number_log = len((np.where((np.log(df[\"TOTAL_REVENUE\"].dropna()) > max_value_log)| \n",
    "                                       (np.log(df[\"TOTAL_REVENUE\"].dropna()) < min_value_log))[0]))\n",
    "    \n",
    "    outlier_value_number = len((np.where((df[\"TOTAL_REVENUE\"].dropna() > max_value)| \n",
    "                                       (df[\"TOTAL_REVENUE\"].dropna() < min_value))[0]))\n",
    "    \n",
    "\n",
    "    \n",
    "    \n",
    "    TEoutlier_value_number_log = len((np.where((np.log(df[\"TOTAL_EXPENDITURE\"].dropna()) > TEmax_value_log)| \n",
    "                                       (np.log(df[\"TOTAL_EXPENDITURE\"].dropna()) < TEmin_value_log))[0]))\n",
    "    \n",
    "    TEoutlier_value_number = len((np.where((df[\"TOTAL_EXPENDITURE\"].dropna() > TEmax_value)| \n",
    "                                       (df[\"TOTAL_EXPENDITURE\"].dropna() < TEmin_value))[0]))\n",
    "    \n",
    "    log_threshold_values.append({'TOTAL_REVENUE threshold_value': threshold_value,\n",
    "                                 'TOTAL_REVENUE outlier_value_number' : outlier_value_number,\n",
    "                                 'TOTAL_REVENUE outlier_value_number_log': outlier_value_number_log ,\n",
    "                                'TOTAL_EXPENDITURE threshold_value': threshold_value,\n",
    "                                 'TOTAL_EXPENDITURE outlier_value_number' : TEoutlier_value_number,\n",
    "                                 'TOTAL_EXPENDITURE outlier_value_number_log': TEoutlier_value_number_log })\n",
    "    \n",
    "pd.DataFrame(log_threshold_values)"
   ]
  },
  {
   "cell_type": "code",
   "execution_count": 66,
   "metadata": {},
   "outputs": [
    {
     "data": {
      "image/png": "[encoded data removed]",
      "text/plain": [
       "<Figure size 1080x360 with 2 Axes>"
      ]
     },
     "metadata": {
      "needs_background": "light"
     },
     "output_type": "display_data"
    },
    {
     "data": {
      "image/png": "[encoded data removed]",
      "text/plain": [
       "<Figure size 1080x360 with 2 Axes>"
      ]
     },
     "metadata": {
      "needs_background": "light"
     },
     "output_type": "display_data"
    }
   ],
   "source": [
    "from scipy.stats.mstats import winsorize\n",
    "\n",
    "winsorizing_gross= winsorize(df[\"TOTAL_REVENUE\"].dropna(), (0, 0.0870))\n",
    "\n",
    "winsorizing_gross2= winsorize(df[\"TOTAL_EXPENDITURE\"].dropna(), (0, 0.0871))\n",
    "\n",
    "\n",
    "baslik_font = {'family': 'arial', 'color': 'darkred','weight': 'bold','size': 13 }\n",
    "axis_font  = {'family': 'arial', 'color': 'darkblue','weight': 'bold','size': 10 }\n",
    "\n",
    "\n",
    "plt.figure(figsize = (15,5))\n",
    "\n",
    "plt.subplot(1,2,1)\n",
    "plt.boxplot(df[\"TOTAL_REVENUE\"].dropna())\n",
    "\n",
    "\n",
    "\n",
    "plt.subplot(1,2,2)\n",
    "plt.boxplot(winsorizing_gross)\n",
    "plt.title(\"TOTAL_REVENUE After Winsorizing\", fontdict=baslik_font)\n",
    "\n",
    "plt.figure(figsize = (15,5))\n",
    "\n",
    "\n",
    "plt.subplot(1,2,1)\n",
    "plt.boxplot(df[\"TOTAL_EXPENDITURE\"].dropna())\n",
    "\n",
    "\n",
    "plt.subplot(1,2,2)\n",
    "plt.boxplot(winsorizing_gross2)\n",
    "plt.title(\"TOTAL_EXPENDITURE After Winsorizing\", fontdict=baslik_font)\n",
    "plt.show()"
   ]
  },
  {
   "cell_type": "markdown",
   "metadata": {},
   "source": [
    "#### 3-Subtract the total expenditure TOTAL_EXPENDITURE from the total income variable TOTAL_REVENUE to create a variable that can be considered as a budget deficit (without failing to contradict the outliers). Are there any outliers in this new variable? If any, clear these outliers.\n",
    " \n",
    "\n"
   ]
  },
  {
   "cell_type": "code",
   "execution_count": 9,
   "metadata": {},
   "outputs": [
    {
     "data": {
      "text/html": [
       "<div>\n",
       "<style scoped>\n",
       "    .dataframe tbody tr th:only-of-type {\n",
       "        vertical-align: middle;\n",
       "    }\n",
       "\n",
       "    .dataframe tbody tr th {\n",
       "        vertical-align: top;\n",
       "    }\n",
       "\n",
       "    .dataframe thead th {\n",
       "        text-align: right;\n",
       "    }\n",
       "</style>\n",
       "<table border=\"1\" class=\"dataframe\">\n",
       "  <thead>\n",
       "    <tr style=\"text-align: right;\">\n",
       "      <th></th>\n",
       "      <th>TOTAL_REVENUE</th>\n",
       "      <th>TOTAL_EXPENDITURE</th>\n",
       "      <th>SUBTRACT</th>\n",
       "    </tr>\n",
       "  </thead>\n",
       "  <tbody>\n",
       "    <tr>\n",
       "      <th>0</th>\n",
       "      <td>2678885.0</td>\n",
       "      <td>2653798.0</td>\n",
       "      <td>25087.0</td>\n",
       "    </tr>\n",
       "    <tr>\n",
       "      <th>1</th>\n",
       "      <td>1049591.0</td>\n",
       "      <td>972488.0</td>\n",
       "      <td>77103.0</td>\n",
       "    </tr>\n",
       "    <tr>\n",
       "      <th>2</th>\n",
       "      <td>3258079.0</td>\n",
       "      <td>3401580.0</td>\n",
       "      <td>-143501.0</td>\n",
       "    </tr>\n",
       "    <tr>\n",
       "      <th>3</th>\n",
       "      <td>1711959.0</td>\n",
       "      <td>1743022.0</td>\n",
       "      <td>-31063.0</td>\n",
       "    </tr>\n",
       "    <tr>\n",
       "      <th>4</th>\n",
       "      <td>26260025.0</td>\n",
       "      <td>27138832.0</td>\n",
       "      <td>-878807.0</td>\n",
       "    </tr>\n",
       "  </tbody>\n",
       "</table>\n",
       "</div>"
      ],
      "text/plain": [
       "   TOTAL_REVENUE  TOTAL_EXPENDITURE  SUBTRACT\n",
       "0      2678885.0          2653798.0   25087.0\n",
       "1      1049591.0           972488.0   77103.0\n",
       "2      3258079.0          3401580.0 -143501.0\n",
       "3      1711959.0          1743022.0  -31063.0\n",
       "4     26260025.0         27138832.0 -878807.0"
      ]
     },
     "execution_count": 9,
     "metadata": {},
     "output_type": "execute_result"
    }
   ],
   "source": [
    "subtract=df[\"TOTAL_REVENUE\"] - df[\"TOTAL_EXPENDITURE\"]\n",
    "df[\"SUBTRACT\"]=subtract\n",
    "df[[\"TOTAL_REVENUE\",\"TOTAL_EXPENDITURE\",\"SUBTRACT\"]].head()\n"
   ]
  },
  {
   "cell_type": "code",
   "execution_count": 10,
   "metadata": {},
   "outputs": [
    {
     "data": {
      "text/plain": [
       "744"
      ]
     },
     "execution_count": 10,
     "metadata": {},
     "output_type": "execute_result"
    }
   ],
   "source": [
    "len(df[\"SUBTRACT\"][df[\"SUBTRACT\"]<0]) #sum of negative results"
   ]
  },
  {
   "cell_type": "code",
   "execution_count": 184,
   "metadata": {},
   "outputs": [
    {
     "data": {
      "image/png": "[encoded data removed]",
      "text/plain": [
       "<Figure size 1080x360 with 2 Axes>"
      ]
     },
     "metadata": {
      "needs_background": "light"
     },
     "output_type": "display_data"
    },
    {
     "data": {
      "text/plain": [
       "1275"
      ]
     },
     "execution_count": 184,
     "metadata": {},
     "output_type": "execute_result"
    }
   ],
   "source": [
    "\n",
    "plt.figure(figsize = (15,5))\n",
    "\n",
    "plt.subplot(1,2,1)\n",
    "\n",
    "plt.boxplot(df[\"SUBTRACT\"].dropna())\n",
    "plt.title(\"budget deficit Before Winsorizing\")\n",
    "plt.subplot(1,2,2)\n",
    "winsorizing= winsorize(df[\"SUBTRACT\"].dropna(), (0.0895, 0.0667))\n",
    "plt.boxplot(winsorizing)\n",
    "plt.title(\"budget deficit After Winsorizing\")\n",
    "plt.show()\n",
    "\n",
    "len(winsorizing)"
   ]
  },
  {
   "cell_type": "code",
   "execution_count": 132,
   "metadata": {},
   "outputs": [
    {
     "data": {
      "text/html": [
       "<div>\n",
       "<style scoped>\n",
       "    .dataframe tbody tr th:only-of-type {\n",
       "        vertical-align: middle;\n",
       "    }\n",
       "\n",
       "    .dataframe tbody tr th {\n",
       "        vertical-align: top;\n",
       "    }\n",
       "\n",
       "    .dataframe thead th {\n",
       "        text-align: right;\n",
       "    }\n",
       "</style>\n",
       "<table border=\"1\" class=\"dataframe\">\n",
       "  <thead>\n",
       "    <tr style=\"text-align: right;\">\n",
       "      <th></th>\n",
       "      <th>TOTAL_REVENUE</th>\n",
       "      <th>TOTAL_EXPENDITURE</th>\n",
       "      <th>SUBTRACT</th>\n",
       "    </tr>\n",
       "  </thead>\n",
       "  <tbody>\n",
       "    <tr>\n",
       "      <th>0</th>\n",
       "      <td>2678885.0</td>\n",
       "      <td>2653798.0</td>\n",
       "      <td>25087.0</td>\n",
       "    </tr>\n",
       "    <tr>\n",
       "      <th>1</th>\n",
       "      <td>1049591.0</td>\n",
       "      <td>972488.0</td>\n",
       "      <td>77103.0</td>\n",
       "    </tr>\n",
       "    <tr>\n",
       "      <th>2</th>\n",
       "      <td>3258079.0</td>\n",
       "      <td>3401580.0</td>\n",
       "      <td>-143501.0</td>\n",
       "    </tr>\n",
       "    <tr>\n",
       "      <th>3</th>\n",
       "      <td>1711959.0</td>\n",
       "      <td>1743022.0</td>\n",
       "      <td>-31063.0</td>\n",
       "    </tr>\n",
       "    <tr>\n",
       "      <th>4</th>\n",
       "      <td>26260025.0</td>\n",
       "      <td>27138832.0</td>\n",
       "      <td>-878807.0</td>\n",
       "    </tr>\n",
       "  </tbody>\n",
       "</table>\n",
       "</div>"
      ],
      "text/plain": [
       "   TOTAL_REVENUE  TOTAL_EXPENDITURE  SUBTRACT\n",
       "0      2678885.0          2653798.0   25087.0\n",
       "1      1049591.0           972488.0   77103.0\n",
       "2      3258079.0          3401580.0 -143501.0\n",
       "3      1711959.0          1743022.0  -31063.0\n",
       "4     26260025.0         27138832.0 -878807.0"
      ]
     },
     "execution_count": 132,
     "metadata": {},
     "output_type": "execute_result"
    }
   ],
   "source": [
    "subtract=df[\"TOTAL_REVENUE\"] - df[\"TOTAL_EXPENDITURE\"]\n",
    "df[\"SUBTRACT\"]=subtract\n",
    "df[[\"TOTAL_REVENUE\",\"TOTAL_EXPENDITURE\",\"SUBTRACT\"]].head()\n"
   ]
  },
  {
   "cell_type": "markdown",
   "metadata": {},
   "source": [
    "#### 4-Again create a variable that can be considered as a budget deficit by subtracting the total income TOTAL_REVENUE variable from the total expenditure TOTAL_EXPENDITURE. But this time, after clearing the outliers, do this. Are there any outliers in this new variable? It is useful to clean them, if any."
   ]
  },
  {
   "cell_type": "code",
   "execution_count": 191,
   "metadata": {},
   "outputs": [
    {
     "data": {
      "image/png": "[encoded data removed]",
      "text/plain": [
       "<Figure size 1080x360 with 2 Axes>"
      ]
     },
     "metadata": {
      "needs_background": "light"
     },
     "output_type": "display_data"
    }
   ],
   "source": [
    "\n",
    "new_winsorizing=winsorizing_gross-winsorizing_gross2\n",
    "\n",
    "df2=df[df[\"TOTAL_REVENUE\"].notnull()]\n",
    "df2[\"NEWSUBTRACT\"]=new_winsorizing\n",
    "\n",
    "plt.figure(figsize = (15,5))\n",
    "\n",
    "plt.subplot(1,2,1)\n",
    "plt.boxplot(df2[\"NEWSUBTRACT\"].dropna())\n",
    "plt.title(\"budget deficit Before Winsorizing\")\n",
    "\n",
    "plt.subplot(1,2,2)\n",
    "winsorizing_gross3= winsorize(df2[\"NEWSUBTRACT\"], (0.0557, 0.04))\n",
    "plt.boxplot(winsorizing_gross3)\n",
    "plt.title(\"budget deficit After Winsorizing\")\n",
    "plt.show()\n",
    "\n",
    "\n"
   ]
  },
  {
   "cell_type": "markdown",
   "metadata": {},
   "source": [
    "#### 5-Now, we have two different budget variables that we have created in the third and fourth questions. Do you see the difference between these two?"
   ]
  },
  {
   "cell_type": "code",
   "execution_count": 12,
   "metadata": {},
   "outputs": [
    {
     "data": {
      "text/html": [
       "<div>\n",
       "<style scoped>\n",
       "    .dataframe tbody tr th:only-of-type {\n",
       "        vertical-align: middle;\n",
       "    }\n",
       "\n",
       "    .dataframe tbody tr th {\n",
       "        vertical-align: top;\n",
       "    }\n",
       "\n",
       "    .dataframe thead th {\n",
       "        text-align: right;\n",
       "    }\n",
       "</style>\n",
       "<table border=\"1\" class=\"dataframe\">\n",
       "  <thead>\n",
       "    <tr style=\"text-align: right;\">\n",
       "      <th></th>\n",
       "      <th>PRIMARY_KEY</th>\n",
       "      <th>STATE</th>\n",
       "      <th>YEAR</th>\n",
       "      <th>ENROLL</th>\n",
       "      <th>TOTAL_REVENUE</th>\n",
       "      <th>FEDERAL_REVENUE</th>\n",
       "      <th>STATE_REVENUE</th>\n",
       "      <th>LOCAL_REVENUE</th>\n",
       "      <th>TOTAL_EXPENDITURE</th>\n",
       "      <th>INSTRUCTION_EXPENDITURE</th>\n",
       "      <th>...</th>\n",
       "      <th>GRADES_8_G</th>\n",
       "      <th>GRADES_12_G</th>\n",
       "      <th>GRADES_1_8_G</th>\n",
       "      <th>GRADES_9_12_G</th>\n",
       "      <th>GRADES_ALL_G</th>\n",
       "      <th>AVG_MATH_4_SCORE</th>\n",
       "      <th>AVG_MATH_8_SCORE</th>\n",
       "      <th>AVG_READING_4_SCORE</th>\n",
       "      <th>AVG_READING_8_SCORE</th>\n",
       "      <th>SUBTRACT</th>\n",
       "    </tr>\n",
       "  </thead>\n",
       "  <tbody>\n",
       "    <tr>\n",
       "      <th>0</th>\n",
       "      <td>1992_ALABAMA</td>\n",
       "      <td>ALABAMA</td>\n",
       "      <td>1992</td>\n",
       "      <td>NaN</td>\n",
       "      <td>2678885.0</td>\n",
       "      <td>304177.0</td>\n",
       "      <td>1659028.0</td>\n",
       "      <td>715680.0</td>\n",
       "      <td>2653798.0</td>\n",
       "      <td>1481703.0</td>\n",
       "      <td>...</td>\n",
       "      <td>58025.0</td>\n",
       "      <td>41167.0</td>\n",
       "      <td>NaN</td>\n",
       "      <td>NaN</td>\n",
       "      <td>731634.0</td>\n",
       "      <td>208.0</td>\n",
       "      <td>252.0</td>\n",
       "      <td>207.0</td>\n",
       "      <td>NaN</td>\n",
       "      <td>25087.0</td>\n",
       "    </tr>\n",
       "    <tr>\n",
       "      <th>1</th>\n",
       "      <td>1992_ALASKA</td>\n",
       "      <td>ALASKA</td>\n",
       "      <td>1992</td>\n",
       "      <td>NaN</td>\n",
       "      <td>1049591.0</td>\n",
       "      <td>106780.0</td>\n",
       "      <td>720711.0</td>\n",
       "      <td>222100.0</td>\n",
       "      <td>972488.0</td>\n",
       "      <td>498362.0</td>\n",
       "      <td>...</td>\n",
       "      <td>8789.0</td>\n",
       "      <td>6714.0</td>\n",
       "      <td>NaN</td>\n",
       "      <td>NaN</td>\n",
       "      <td>122487.0</td>\n",
       "      <td>NaN</td>\n",
       "      <td>NaN</td>\n",
       "      <td>NaN</td>\n",
       "      <td>NaN</td>\n",
       "      <td>77103.0</td>\n",
       "    </tr>\n",
       "    <tr>\n",
       "      <th>2</th>\n",
       "      <td>1992_ARIZONA</td>\n",
       "      <td>ARIZONA</td>\n",
       "      <td>1992</td>\n",
       "      <td>NaN</td>\n",
       "      <td>3258079.0</td>\n",
       "      <td>297888.0</td>\n",
       "      <td>1369815.0</td>\n",
       "      <td>1590376.0</td>\n",
       "      <td>3401580.0</td>\n",
       "      <td>1435908.0</td>\n",
       "      <td>...</td>\n",
       "      <td>49081.0</td>\n",
       "      <td>37410.0</td>\n",
       "      <td>NaN</td>\n",
       "      <td>NaN</td>\n",
       "      <td>673477.0</td>\n",
       "      <td>215.0</td>\n",
       "      <td>265.0</td>\n",
       "      <td>209.0</td>\n",
       "      <td>NaN</td>\n",
       "      <td>-143501.0</td>\n",
       "    </tr>\n",
       "    <tr>\n",
       "      <th>3</th>\n",
       "      <td>1992_ARKANSAS</td>\n",
       "      <td>ARKANSAS</td>\n",
       "      <td>1992</td>\n",
       "      <td>NaN</td>\n",
       "      <td>1711959.0</td>\n",
       "      <td>178571.0</td>\n",
       "      <td>958785.0</td>\n",
       "      <td>574603.0</td>\n",
       "      <td>1743022.0</td>\n",
       "      <td>964323.0</td>\n",
       "      <td>...</td>\n",
       "      <td>36011.0</td>\n",
       "      <td>27651.0</td>\n",
       "      <td>NaN</td>\n",
       "      <td>NaN</td>\n",
       "      <td>441490.0</td>\n",
       "      <td>210.0</td>\n",
       "      <td>256.0</td>\n",
       "      <td>211.0</td>\n",
       "      <td>NaN</td>\n",
       "      <td>-31063.0</td>\n",
       "    </tr>\n",
       "    <tr>\n",
       "      <th>4</th>\n",
       "      <td>1992_CALIFORNIA</td>\n",
       "      <td>CALIFORNIA</td>\n",
       "      <td>1992</td>\n",
       "      <td>NaN</td>\n",
       "      <td>26260025.0</td>\n",
       "      <td>2072470.0</td>\n",
       "      <td>16546514.0</td>\n",
       "      <td>7641041.0</td>\n",
       "      <td>27138832.0</td>\n",
       "      <td>14358922.0</td>\n",
       "      <td>...</td>\n",
       "      <td>363296.0</td>\n",
       "      <td>270675.0</td>\n",
       "      <td>NaN</td>\n",
       "      <td>NaN</td>\n",
       "      <td>5254844.0</td>\n",
       "      <td>208.0</td>\n",
       "      <td>261.0</td>\n",
       "      <td>202.0</td>\n",
       "      <td>NaN</td>\n",
       "      <td>-878807.0</td>\n",
       "    </tr>\n",
       "  </tbody>\n",
       "</table>\n",
       "<p>5 rows × 26 columns</p>\n",
       "</div>"
      ],
      "text/plain": [
       "       PRIMARY_KEY       STATE  YEAR  ENROLL  TOTAL_REVENUE  FEDERAL_REVENUE  \\\n",
       "0     1992_ALABAMA     ALABAMA  1992     NaN      2678885.0         304177.0   \n",
       "1      1992_ALASKA      ALASKA  1992     NaN      1049591.0         106780.0   \n",
       "2     1992_ARIZONA     ARIZONA  1992     NaN      3258079.0         297888.0   \n",
       "3    1992_ARKANSAS    ARKANSAS  1992     NaN      1711959.0         178571.0   \n",
       "4  1992_CALIFORNIA  CALIFORNIA  1992     NaN     26260025.0        2072470.0   \n",
       "\n",
       "   STATE_REVENUE  LOCAL_REVENUE  TOTAL_EXPENDITURE  INSTRUCTION_EXPENDITURE  \\\n",
       "0      1659028.0       715680.0          2653798.0                1481703.0   \n",
       "1       720711.0       222100.0           972488.0                 498362.0   \n",
       "2      1369815.0      1590376.0          3401580.0                1435908.0   \n",
       "3       958785.0       574603.0          1743022.0                 964323.0   \n",
       "4     16546514.0      7641041.0         27138832.0               14358922.0   \n",
       "\n",
       "   ...  GRADES_8_G  GRADES_12_G  GRADES_1_8_G  GRADES_9_12_G  GRADES_ALL_G  \\\n",
       "0  ...     58025.0      41167.0           NaN            NaN      731634.0   \n",
       "1  ...      8789.0       6714.0           NaN            NaN      122487.0   \n",
       "2  ...     49081.0      37410.0           NaN            NaN      673477.0   \n",
       "3  ...     36011.0      27651.0           NaN            NaN      441490.0   \n",
       "4  ...    363296.0     270675.0           NaN            NaN     5254844.0   \n",
       "\n",
       "   AVG_MATH_4_SCORE  AVG_MATH_8_SCORE  AVG_READING_4_SCORE  \\\n",
       "0             208.0             252.0                207.0   \n",
       "1               NaN               NaN                  NaN   \n",
       "2             215.0             265.0                209.0   \n",
       "3             210.0             256.0                211.0   \n",
       "4             208.0             261.0                202.0   \n",
       "\n",
       "   AVG_READING_8_SCORE  SUBTRACT  \n",
       "0                  NaN   25087.0  \n",
       "1                  NaN   77103.0  \n",
       "2                  NaN -143501.0  \n",
       "3                  NaN  -31063.0  \n",
       "4                  NaN -878807.0  \n",
       "\n",
       "[5 rows x 26 columns]"
      ]
     },
     "execution_count": 12,
     "metadata": {},
     "output_type": "execute_result"
    }
   ],
   "source": [
    "df.head()"
   ]
  },
  {
   "cell_type": "markdown",
   "metadata": {},
   "source": [
    "#### 6-If the budget deficit was a very important variable for us, which method would be better to clear out contrary values. Is it the method you applied in the third question or the method in the fourth question?\n",
    "\n"
   ]
  },
  {
   "cell_type": "code",
   "execution_count": 190,
   "metadata": {},
   "outputs": [
    {
     "data": {
      "image/png": "[encoded data removed]",
      "text/plain": [
       "<Figure size 1080x360 with 2 Axes>"
      ]
     },
     "metadata": {
      "needs_background": "light"
     },
     "output_type": "display_data"
    }
   ],
   "source": [
    "plt.figure(figsize = (15,5))\n",
    "\n",
    "plt.subplot(1,2,1)\n",
    "plt.title(\"budget deficit third question\")\n",
    "plt.hist(winsorizing)\n",
    "\n",
    "plt.subplot(1,2,2)\n",
    "plt.title(\"budget deficit fourth question\")\n",
    "plt.hist(winsorizing_gross3)\n",
    "plt.show()"
   ]
  },
  {
   "cell_type": "code",
   "execution_count": null,
   "metadata": {},
   "outputs": [],
   "source": []
  }
 ],
 "metadata": {
  "kernelspec": {
   "display_name": "Python 3",
   "language": "python",
   "name": "python3"
  },
  "language_info": {
   "codemirror_mode": {
    "name": "ipython",
    "version": 3
   },
   "file_extension": ".py",
   "mimetype": "text/x-python",
   "name": "python",
   "nbconvert_exporter": "python",
   "pygments_lexer": "ipython3",
   "version": "3.8.3"
  }
 },
 "nbformat": 4,
 "nbformat_minor": 4
}
