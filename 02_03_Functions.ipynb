{
 "cells": [
  {
   "cell_type": "markdown",
   "metadata": {},
   "source": [
    "# Assignments for \"Functions\""
   ]
  },
  {
   "cell_type": "markdown",
   "metadata": {},
   "source": [
    "1. A prime number is an integer greater than one that is only divisible by one and itself. Write a function that determines whether or not its parameter is prime, returns `True` if it is and `False` otherwise. Write a main program that reads an integer from the user and displays a message indicating whether or not it is prime. Ensure that the main program does not run if the file containing your solution is imported into another program.<br>"
   ]
  },
  {
   "cell_type": "code",
   "execution_count": 39,
   "metadata": {},
   "outputs": [
    {
     "data": {
      "text/plain": [
       "True"
      ]
     },
     "execution_count": 39,
     "metadata": {},
     "output_type": "execute_result"
    }
   ],
   "source": [
    "def prime(number):\n",
    "    if number < 2:\n",
    "        return False\n",
    "    elif number == 2:\n",
    "        print(\"2\")\n",
    "        return True\n",
    "    else:\n",
    "        result = True\n",
    "        for j in range(2,number):\n",
    "            if number % j == 0:\n",
    "                result=False\n",
    "                break\n",
    "        return result\n",
    "        \n",
    "prime(11)\n",
    "        "
   ]
  },
  {
   "cell_type": "markdown",
   "metadata": {},
   "source": [
    "2. Please write a function that passes each element of a list only once to a new list. We usually do this with the `set()` command, but let us not use this command this time.\n",
    "\n",
    "    Example:\n",
    "    \n",
    "        unique_list([1,2,2,3,3,4,4]) = [1,2,3,4] <br><br>"
   ]
  },
  {
   "cell_type": "code",
   "execution_count": 46,
   "metadata": {},
   "outputs": [
    {
     "data": {
      "text/plain": [
       "[1, 2, 3, 4]"
      ]
     },
     "execution_count": 46,
     "metadata": {},
     "output_type": "execute_result"
    }
   ],
   "source": [
    "def unique_list(l):\n",
    "    setList=list()\n",
    "    for i in l:\n",
    "        if(i not in setList):\n",
    "            setList.append(i)\n",
    "    return setList\n",
    "\n",
    "unique_list([1,2,2,3,3,4,4])"
   ]
  },
  {
   "cell_type": "markdown",
   "metadata": {},
   "source": [
    "3. There are many built-in modules in Python. By importing one of the modules on time, write a function that takes the date of birth as a parameter and returns the age.<br><br>"
   ]
  },
  {
   "cell_type": "code",
   "execution_count": 49,
   "metadata": {},
   "outputs": [
    {
     "name": "stdout",
     "output_type": "stream",
     "text": [
      "22 years\n"
     ]
    }
   ],
   "source": [
    "from datetime import date \n",
    "  \n",
    "def calculateAge(birthDate): \n",
    "    today = date.today() \n",
    "    age = today.year - birthDate.year - ((today.month, today.day) < (birthDate.month, birthDate.day)) \n",
    "    return age \n",
    "      \n",
    "# Driver code  \n",
    "print(calculateAge(date(1998, 8,3)), \"years\") "
   ]
  },
  {
   "cell_type": "markdown",
   "metadata": {},
   "source": [
    "4. Get a number from the user and calculate the factorial of it by using a function.<br><br>"
   ]
  },
  {
   "cell_type": "code",
   "execution_count": 57,
   "metadata": {},
   "outputs": [
    {
     "name": "stdout",
     "output_type": "stream",
     "text": [
      "Number: 4\n",
      "24\n"
     ]
    }
   ],
   "source": [
    "number=int(input(\"Number: \"))\n",
    "f=1;\n",
    "for i in range(1,number+1): \n",
    "    f=f*i\n",
    "print(f)"
   ]
  },
  {
   "cell_type": "markdown",
   "metadata": {},
   "source": [
    "5. Write a function named `perfect()` that determines if the parameter number is a perfect number. Use this function in a program that determines and prints all the perfect numbers between 1 and 1000.\n",
    "\n",
    "    An integer number is said to be a `perfect number` if its factors (including 1, but not the number itself) sum to the number. \n",
    "\n",
    "        E.g.: 6 is a perfect number because 6 = 1 + 2 + 3.<br><br>"
   ]
  },
  {
   "cell_type": "code",
   "execution_count": 6,
   "metadata": {},
   "outputs": [
    {
     "name": "stdin",
     "output_type": "stream",
     "text": [
      "Number:  28\n"
     ]
    },
    {
     "name": "stdout",
     "output_type": "stream",
     "text": [
      "Perfect Number.\n"
     ]
    }
   ],
   "source": [
    "def perfect(number):\n",
    "    sum=0\n",
    "    for i in range(1,number):\n",
    "        if(number%i == 0):\n",
    "            sum +=i\n",
    "    if(number == sum):\n",
    "        print(\"Perfect Number.\")\n",
    "    else:\n",
    "        print(\"Not Perfect\")\n",
    "        \n",
    "num = int(input(\"Number: \"))\n",
    "perfect(num)\n",
    "\n"
   ]
  },
  {
   "cell_type": "markdown",
   "metadata": {},
   "source": [
    "6. Write a Python function that prints out the first n rows of [Pascal's triangle](https://en.wikipedia.org/wiki/Pascal%27s_triangle). \n",
    "\n",
    "<div style=\"text-align:center;\">\n",
    "    <img src=\"https://bootrain-lms-assets.s3.eu-central-1.amazonaws.com/bootrain-lms-static/images/02_IntermediatePython/03_PascalsTriangle.gif\" width=\"200\">\n",
    "    \n",
    "    In Pascal's triangle, each number is the sum of the two numbers directly above it.\n",
    "</div>"
   ]
  },
  {
   "cell_type": "code",
   "execution_count": 22,
   "metadata": {},
   "outputs": [
    {
     "name": "stdin",
     "output_type": "stream",
     "text": [
      "Enter a number: 9\n"
     ]
    },
    {
     "name": "stdout",
     "output_type": "stream",
     "text": [
      "         [1]\n",
      "        [1, 1]\n",
      "       [1, 2, 1]\n",
      "      [1, 3, 3, 1]\n",
      "     [1, 4, 6, 4, 1]\n",
      "    [1, 5, 10, 10, 5, 1]\n",
      "   [1, 6, 15, 20, 15, 6, 1]\n",
      "  [1, 7, 21, 35, 35, 21, 7, 1]\n",
      " [1, 8, 28, 56, 70, 56, 28, 8, 1]\n"
     ]
    }
   ],
   "source": [
    "import math\n",
    "list1 = []\n",
    "def kombinasyon(numbers):\n",
    "    list2 =[]\n",
    "    for i in range(0,numbers+1):\n",
    "        if i == 0 or i == numbers:\n",
    "            list2.append(1)\n",
    "        else:\n",
    "            x = math.factorial(numbers)/(math.factorial(numbers-i)*math.factorial(i))\n",
    "            list2.append(int(x))\n",
    "    list1.append(list2)\n",
    "    \n",
    "numbers = int(input(\"Enter a number:\")) \n",
    "for i in range(0,numbers):\n",
    "    kombinasyon(i)\n",
    "\n",
    "for satir in list1:\n",
    "    print(\" \"*(len(list1)-len(satir)),satir)"
   ]
  },
  {
   "cell_type": "code",
   "execution_count": null,
   "metadata": {},
   "outputs": [],
   "source": []
  }
 ],
 "metadata": {
  "kernelspec": {
   "display_name": "Python 3",
   "language": "python",
   "name": "python3"
  },
  "language_info": {
   "codemirror_mode": {
    "name": "ipython",
    "version": 3
   },
   "file_extension": ".py",
   "mimetype": "text/x-python",
   "name": "python",
   "nbconvert_exporter": "python",
   "pygments_lexer": "ipython3",
   "version": "3.8.3"
  }
 },
 "nbformat": 4,
 "nbformat_minor": 4
}
