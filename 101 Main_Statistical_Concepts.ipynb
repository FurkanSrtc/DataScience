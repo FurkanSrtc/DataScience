{
 "cells": [
  {
   "cell_type": "markdown",
   "metadata": {},
   "source": [
    "# <font color=blue>Assignments for \"Main Statistical Concepts\"</font>"
   ]
  },
  {
   "cell_type": "markdown",
   "metadata": {},
   "source": [
    "Please upload your solutions to the following assignments as Jupyter Notebook to your GitHub account and share the GitHub link with the button below. You can talk to your mentor about the issues you have in mind or ask Slack at office time."
   ]
  },
  {
   "cell_type": "markdown",
   "metadata": {},
   "source": [
    "1. Analyze the central tendency and distribution measurements with the mathematical formula given above and the built-in codes available in python through 3 different data that you will generate using the numpy library !!!"
   ]
  },
  {
   "cell_type": "code",
   "execution_count": 12,
   "metadata": {},
   "outputs": [
    {
     "name": "stdout",
     "output_type": "stream",
     "text": [
      "Mean1 : 67.03187767580349\n",
      "Mean1 : 180.84215508274517\n",
      "Mean2 : 67.03187767580349\n",
      "Mean2 : 180.84215508274517 \n",
      "\n",
      "median1 : 66.16377324762257\n",
      "median1 : 177.06413837090022\n",
      "median2 : 66.16377324762257\n",
      "median2 : 177.06413837090022 \n",
      "\n",
      "Mode1 : 71.4863953331871\n",
      "Mode1 : 184.29622637198554\n",
      "Mode1 : male \n",
      "\n",
      "????????????????????????????????????????????????????????????????????????\n",
      "Mode2 : 46.52374692501788\n",
      "Mode2 : 131.6356592323536\n",
      "Mode2 : female\n",
      "????????????????????????????????????????????????????????????????????????\n",
      "Standard deviation : 6.99179750917739\n",
      "Standard deviation : 23.74504614853582 \n",
      "\n",
      "Standard error : 0.49439474314225446\n",
      "Standard error : 1.6790283151217191\n"
     ]
    }
   ],
   "source": [
    "import numpy as np\n",
    "import pandas as pd\n",
    "import statistics\n",
    "\n",
    "data = pd.DataFrame()\n",
    "data['gender'] = ['male'] * 100 + ['female'] * 100\n",
    "data['height'] = np.append(np.random.normal(69, 8, 100), np.random.normal(64, 5, 100))\n",
    "data['weight'] = np.append(np.random.normal(195, 25, 100), np.random.normal(166, 15, 100))\n",
    "\n",
    "\n",
    "\n",
    "print(\"Mean1 :\",sum(data['height']) / len(data['height']))\n",
    "print(\"Mean1 :\",sum(data['weight'])/len(data['weight']))\n",
    "\n",
    "\n",
    "print(\"Mean2 :\",np.mean(data['height']))\n",
    "print(\"Mean2 :\",np.mean(data['weight']),\"\\n\")\n",
    "\n",
    "\n",
    "print(\"median1 :\",statistics.median(data['height']))\n",
    "print(\"median1 :\",statistics.median(data['weight']))\n",
    "\n",
    "print(\"median2 :\",np.median(data['height']))\n",
    "print(\"median2 :\",np.median(data['weight']),\"\\n\")\n",
    "\n",
    "\n",
    "print(\"Mode1 :\",statistics.mode(data['height']))\n",
    "print(\"Mode1 :\",statistics.mode(data['weight']))\n",
    "print(\"Mode1 :\",statistics.mode(data['gender']),\"\\n\")\n",
    "\n",
    "print(\"????????????????????????????????????????????????????????????????????????\")\n",
    "\n",
    "(values, counts) = np.unique(data['height'].values, return_counts=True)\n",
    "ind = np.argmax(counts)\n",
    "print(\"Mode2 :\",values[ind])\n",
    "\n",
    "(values, counts) = np.unique(data['weight'].values, return_counts=True)\n",
    "ind = np.argmax(counts)\n",
    "print(\"Mode2 :\",values[ind])\n",
    "(values, counts) = np.unique(data['gender'].values, return_counts=True)\n",
    "ind = np.argmax(counts)\n",
    "print(\"Mode2 :\",values[ind])\n",
    "print(\"????????????????????????????????????????????????????????????????????????\")\n",
    "print(\"Standard deviation :\",np.std(data['height'], ddof=1))\n",
    "print(\"Standard deviation :\",np.std(data['weight'], ddof=1),\"\\n\")\n",
    "\n",
    "print(\"Standard error :\",np.std(data['height'] ,ddof=1) / np.sqrt(len(data['height'])))\n",
    "print(\"Standard error :\",np.std(data['weight'] ,ddof=1) / np.sqrt(len(data['weight'])))"
   ]
  },
  {
   "cell_type": "code",
   "execution_count": null,
   "metadata": {},
   "outputs": [],
   "source": []
  }
 ],
 "metadata": {
  "kernelspec": {
   "display_name": "Python 3",
   "language": "python",
   "name": "python3"
  },
  "language_info": {
   "codemirror_mode": {
    "name": "ipython",
    "version": 3
   },
   "file_extension": ".py",
   "mimetype": "text/x-python",
   "name": "python",
   "nbconvert_exporter": "python",
   "pygments_lexer": "ipython3",
   "version": "3.8.3"
  }
 },
 "nbformat": 4,
 "nbformat_minor": 4
}
