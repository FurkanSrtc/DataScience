{
 "cells": [
  {
   "cell_type": "markdown",
   "metadata": {},
   "source": [
    "# <font color=blue>Assignments for \"Logistic Regression\"</font>"
   ]
  },
  {
   "cell_type": "markdown",
   "metadata": {},
   "source": [
    "- In this assignment, you are going to use your model to predict survival of the Titanic disaster. For this assignment, send a link to a Jupyter notebook containing solutions to the following tasks.\n",
    "    - Download [Titanic](https://www.kaggle.com/c/titanic/data) data from Kaggle. The data in the train.csv file meets your need.\n",
    "    - Split your data into training and test sets.\n",
    "    - Predict the survival based on the test data you split by creating your model.\n",
    "    - Is your model's performance satisfactory? Explain.\n",
    "    - Try to improve your model's performance by adding or subtracting some variables. <br>\n",
    "\n",
    "- Explore the advantages and disadvantages of Logistic Regression and discuss with your mentor."
   ]
  },
  {
   "cell_type": "code",
   "execution_count": 1,
   "metadata": {},
   "outputs": [],
   "source": [
    "import matplotlib.pyplot as plt\n",
    "import seaborn as sns\n",
    "import numpy as np\n",
    "import pandas as pd\n",
    "\n",
    "import seaborn as sns\n",
    "import scipy.stats as stats\n",
    "from statistics import mean \n",
    "from scipy.stats.mstats import winsorize\n",
    "\n",
    "\n",
    "from pandas.api.types import is_numeric_dtype\n",
    "\n",
    "\n",
    "import warnings\n",
    "\n",
    "\n",
    "\n",
    "warnings.filterwarnings('ignore')\n",
    "\n",
    "pd.options.display.max_columns = None\n",
    "pd.options.display.max_rows = None\n",
    "df = pd.read_csv('data/titanic-train.csv',  low_memory=False)\n"
   ]
  },
  {
   "cell_type": "code",
   "execution_count": 2,
   "metadata": {},
   "outputs": [
    {
     "data": {
      "text/html": [
       "<div>\n",
       "<style scoped>\n",
       "    .dataframe tbody tr th:only-of-type {\n",
       "        vertical-align: middle;\n",
       "    }\n",
       "\n",
       "    .dataframe tbody tr th {\n",
       "        vertical-align: top;\n",
       "    }\n",
       "\n",
       "    .dataframe thead th {\n",
       "        text-align: right;\n",
       "    }\n",
       "</style>\n",
       "<table border=\"1\" class=\"dataframe\">\n",
       "  <thead>\n",
       "    <tr style=\"text-align: right;\">\n",
       "      <th></th>\n",
       "      <th>PassengerId</th>\n",
       "      <th>Survived</th>\n",
       "      <th>Pclass</th>\n",
       "      <th>Name</th>\n",
       "      <th>Sex</th>\n",
       "      <th>Age</th>\n",
       "      <th>SibSp</th>\n",
       "      <th>Parch</th>\n",
       "      <th>Ticket</th>\n",
       "      <th>Fare</th>\n",
       "      <th>Cabin</th>\n",
       "      <th>Embarked</th>\n",
       "    </tr>\n",
       "  </thead>\n",
       "  <tbody>\n",
       "    <tr>\n",
       "      <th>0</th>\n",
       "      <td>1</td>\n",
       "      <td>0</td>\n",
       "      <td>3</td>\n",
       "      <td>Braund, Mr. Owen Harris</td>\n",
       "      <td>male</td>\n",
       "      <td>22.0</td>\n",
       "      <td>1</td>\n",
       "      <td>0</td>\n",
       "      <td>A/5 21171</td>\n",
       "      <td>7.2500</td>\n",
       "      <td>NaN</td>\n",
       "      <td>S</td>\n",
       "    </tr>\n",
       "    <tr>\n",
       "      <th>1</th>\n",
       "      <td>2</td>\n",
       "      <td>1</td>\n",
       "      <td>1</td>\n",
       "      <td>Cumings, Mrs. John Bradley (Florence Briggs Th...</td>\n",
       "      <td>female</td>\n",
       "      <td>38.0</td>\n",
       "      <td>1</td>\n",
       "      <td>0</td>\n",
       "      <td>PC 17599</td>\n",
       "      <td>71.2833</td>\n",
       "      <td>C85</td>\n",
       "      <td>C</td>\n",
       "    </tr>\n",
       "    <tr>\n",
       "      <th>2</th>\n",
       "      <td>3</td>\n",
       "      <td>1</td>\n",
       "      <td>3</td>\n",
       "      <td>Heikkinen, Miss. Laina</td>\n",
       "      <td>female</td>\n",
       "      <td>26.0</td>\n",
       "      <td>0</td>\n",
       "      <td>0</td>\n",
       "      <td>STON/O2. 3101282</td>\n",
       "      <td>7.9250</td>\n",
       "      <td>NaN</td>\n",
       "      <td>S</td>\n",
       "    </tr>\n",
       "    <tr>\n",
       "      <th>3</th>\n",
       "      <td>4</td>\n",
       "      <td>1</td>\n",
       "      <td>1</td>\n",
       "      <td>Futrelle, Mrs. Jacques Heath (Lily May Peel)</td>\n",
       "      <td>female</td>\n",
       "      <td>35.0</td>\n",
       "      <td>1</td>\n",
       "      <td>0</td>\n",
       "      <td>113803</td>\n",
       "      <td>53.1000</td>\n",
       "      <td>C123</td>\n",
       "      <td>S</td>\n",
       "    </tr>\n",
       "    <tr>\n",
       "      <th>4</th>\n",
       "      <td>5</td>\n",
       "      <td>0</td>\n",
       "      <td>3</td>\n",
       "      <td>Allen, Mr. William Henry</td>\n",
       "      <td>male</td>\n",
       "      <td>35.0</td>\n",
       "      <td>0</td>\n",
       "      <td>0</td>\n",
       "      <td>373450</td>\n",
       "      <td>8.0500</td>\n",
       "      <td>NaN</td>\n",
       "      <td>S</td>\n",
       "    </tr>\n",
       "  </tbody>\n",
       "</table>\n",
       "</div>"
      ],
      "text/plain": [
       "   PassengerId  Survived  Pclass  \\\n",
       "0            1         0       3   \n",
       "1            2         1       1   \n",
       "2            3         1       3   \n",
       "3            4         1       1   \n",
       "4            5         0       3   \n",
       "\n",
       "                                                Name     Sex   Age  SibSp  \\\n",
       "0                            Braund, Mr. Owen Harris    male  22.0      1   \n",
       "1  Cumings, Mrs. John Bradley (Florence Briggs Th...  female  38.0      1   \n",
       "2                             Heikkinen, Miss. Laina  female  26.0      0   \n",
       "3       Futrelle, Mrs. Jacques Heath (Lily May Peel)  female  35.0      1   \n",
       "4                           Allen, Mr. William Henry    male  35.0      0   \n",
       "\n",
       "   Parch            Ticket     Fare Cabin Embarked  \n",
       "0      0         A/5 21171   7.2500   NaN        S  \n",
       "1      0          PC 17599  71.2833   C85        C  \n",
       "2      0  STON/O2. 3101282   7.9250   NaN        S  \n",
       "3      0            113803  53.1000  C123        S  \n",
       "4      0            373450   8.0500   NaN        S  "
      ]
     },
     "execution_count": 2,
     "metadata": {},
     "output_type": "execute_result"
    }
   ],
   "source": [
    "df.head()"
   ]
  },
  {
   "cell_type": "code",
   "execution_count": 3,
   "metadata": {},
   "outputs": [
    {
     "name": "stdout",
     "output_type": "stream",
     "text": [
      "<class 'pandas.core.frame.DataFrame'>\n",
      "RangeIndex: 891 entries, 0 to 890\n",
      "Data columns (total 12 columns):\n",
      " #   Column       Non-Null Count  Dtype  \n",
      "---  ------       --------------  -----  \n",
      " 0   PassengerId  891 non-null    int64  \n",
      " 1   Survived     891 non-null    int64  \n",
      " 2   Pclass       891 non-null    int64  \n",
      " 3   Name         891 non-null    object \n",
      " 4   Sex          891 non-null    object \n",
      " 5   Age          714 non-null    float64\n",
      " 6   SibSp        891 non-null    int64  \n",
      " 7   Parch        891 non-null    int64  \n",
      " 8   Ticket       891 non-null    object \n",
      " 9   Fare         891 non-null    float64\n",
      " 10  Cabin        204 non-null    object \n",
      " 11  Embarked     889 non-null    object \n",
      "dtypes: float64(2), int64(5), object(5)\n",
      "memory usage: 83.7+ KB\n"
     ]
    }
   ],
   "source": [
    "df.info()"
   ]
  },
  {
   "cell_type": "code",
   "execution_count": 4,
   "metadata": {},
   "outputs": [],
   "source": [
    "df[\"Sex\"]=pd.get_dummies(df[\"Sex\"], drop_first=True)"
   ]
  },
  {
   "cell_type": "code",
   "execution_count": 5,
   "metadata": {},
   "outputs": [
    {
     "data": {
      "text/plain": [
       "Text(0.5, 1.0, 'Correlation')"
      ]
     },
     "execution_count": 5,
     "metadata": {},
     "output_type": "execute_result"
    },
    {
     "data": {
      "image/png": "[encoded data removed]",
      "text/plain": [
       "<Figure size 720x720 with 2 Axes>"
      ]
     },
     "metadata": {
      "needs_background": "light"
     },
     "output_type": "display_data"
    }
   ],
   "source": [
    "dfcorr=df[[\"Survived\",\"Pclass\",\"Age\",\"Sex\",\"SibSp\",\"Parch\",\"Fare\"]].corr()\n",
    "plt.figure(figsize=(10,10))\n",
    "sns.heatmap(dfcorr, annot=True, linewidths=.1, vmin=-1, vmax=1, cmap='viridis')\n",
    "plt.title(\"Correlation\")"
   ]
  },
  {
   "cell_type": "code",
   "execution_count": 6,
   "metadata": {},
   "outputs": [],
   "source": [
    "def fix_missing(df, col, name):\n",
    "    if is_numeric_dtype(col):\n",
    "        df[name] = col.fillna(col.median())\n",
    "        \n",
    "for n, c in df.items():\n",
    "        fix_missing(df, c, n)"
   ]
  },
  {
   "cell_type": "code",
   "execution_count": 7,
   "metadata": {},
   "outputs": [
    {
     "name": "stdout",
     "output_type": "stream",
     "text": [
      "One-vs.-Rest\n",
      "------------------------------\n",
      "Accuracy on Train Data : 0.79\n",
      "Accuracy on Test Data  : 0.78\n"
     ]
    }
   ],
   "source": [
    "from sklearn.linear_model import LogisticRegression\n",
    "log_reg = LogisticRegression(solver='lbfgs', multi_class=\"ovr\")\n",
    "\n",
    "from sklearn.model_selection import train_test_split\n",
    "\n",
    "y = df['Survived']\n",
    "X = df[[\"Pclass\",\"Age\",\"Sex\",\"SibSp\",\"Parch\",\"Fare\"]]\n",
    "X_train, X_test, y_train, y_test =  train_test_split(X, y, test_size=0.20, random_state=111)\n",
    "\n",
    "log_reg.fit(X_train, y_train)\n",
    "\n",
    "train_accuracy = log_reg.score(X_train, y_train)\n",
    "test_accuracy = log_reg.score(X_test, y_test)\n",
    "\n",
    "print('One-vs.-Rest', '-'*30, \n",
    "      'Accuracy on Train Data : {:.2f}'.format(train_accuracy), \n",
    "      'Accuracy on Test Data  : {:.2f}'.format(test_accuracy), sep='\\n')"
   ]
  },
  {
   "cell_type": "code",
   "execution_count": 8,
   "metadata": {},
   "outputs": [
    {
     "data": {
      "text/plain": [
       "PolynomialFeatures()"
      ]
     },
     "execution_count": 8,
     "metadata": {},
     "output_type": "execute_result"
    }
   ],
   "source": [
    "from sklearn.preprocessing import PolynomialFeatures\n",
    "\n",
    "pm=PolynomialFeatures()\n",
    "pm.fit(X)\n"
   ]
  },
  {
   "cell_type": "code",
   "execution_count": 9,
   "metadata": {},
   "outputs": [
    {
     "data": {
      "text/plain": [
       "<bound method TransformerMixin.fit_transform of PolynomialFeatures()>"
      ]
     },
     "execution_count": 9,
     "metadata": {},
     "output_type": "execute_result"
    }
   ],
   "source": [
    "pm.fit_transform"
   ]
  },
  {
   "cell_type": "code",
   "execution_count": 10,
   "metadata": {},
   "outputs": [],
   "source": [
    "x_pol=pm.transform(X)"
   ]
  },
  {
   "cell_type": "code",
   "execution_count": 11,
   "metadata": {},
   "outputs": [
    {
     "data": {
      "text/plain": [
       "['1',\n",
       " 'Pclass',\n",
       " 'Age',\n",
       " 'Sex',\n",
       " 'SibSp',\n",
       " 'Parch',\n",
       " 'Fare',\n",
       " 'Pclass^2',\n",
       " 'Pclass Age',\n",
       " 'Pclass Sex',\n",
       " 'Pclass SibSp',\n",
       " 'Pclass Parch',\n",
       " 'Pclass Fare',\n",
       " 'Age^2',\n",
       " 'Age Sex',\n",
       " 'Age SibSp',\n",
       " 'Age Parch',\n",
       " 'Age Fare',\n",
       " 'Sex^2',\n",
       " 'Sex SibSp',\n",
       " 'Sex Parch',\n",
       " 'Sex Fare',\n",
       " 'SibSp^2',\n",
       " 'SibSp Parch',\n",
       " 'SibSp Fare',\n",
       " 'Parch^2',\n",
       " 'Parch Fare',\n",
       " 'Fare^2']"
      ]
     },
     "execution_count": 11,
     "metadata": {},
     "output_type": "execute_result"
    }
   ],
   "source": [
    "pm.get_feature_names(X.columns)"
   ]
  },
  {
   "cell_type": "code",
   "execution_count": 12,
   "metadata": {},
   "outputs": [],
   "source": [
    "x_pol_df=pd.DataFrame(x_pol,columns=pm.get_feature_names(X.columns))\n"
   ]
  },
  {
   "cell_type": "code",
   "execution_count": 14,
   "metadata": {},
   "outputs": [
    {
     "data": {
      "text/html": [
       "<table class=\"simpletable\">\n",
       "<caption>OLS Regression Results</caption>\n",
       "<tr>\n",
       "  <th>Dep. Variable:</th>        <td>Survived</td>     <th>  R-squared:         </th> <td>   0.455</td>\n",
       "</tr>\n",
       "<tr>\n",
       "  <th>Model:</th>                   <td>OLS</td>       <th>  Adj. R-squared:    </th> <td>   0.439</td>\n",
       "</tr>\n",
       "<tr>\n",
       "  <th>Method:</th>             <td>Least Squares</td>  <th>  F-statistic:       </th> <td>   27.74</td>\n",
       "</tr>\n",
       "<tr>\n",
       "  <th>Date:</th>             <td>Sat, 19 Sep 2020</td> <th>  Prob (F-statistic):</th> <td>1.14e-95</td>\n",
       "</tr>\n",
       "<tr>\n",
       "  <th>Time:</th>                 <td>23:29:08</td>     <th>  Log-Likelihood:    </th> <td> -351.56</td>\n",
       "</tr>\n",
       "<tr>\n",
       "  <th>No. Observations:</th>      <td>   891</td>      <th>  AIC:               </th> <td>   757.1</td>\n",
       "</tr>\n",
       "<tr>\n",
       "  <th>Df Residuals:</th>          <td>   864</td>      <th>  BIC:               </th> <td>   886.5</td>\n",
       "</tr>\n",
       "<tr>\n",
       "  <th>Df Model:</th>              <td>    26</td>      <th>                     </th>     <td> </td>   \n",
       "</tr>\n",
       "<tr>\n",
       "  <th>Covariance Type:</th>      <td>nonrobust</td>    <th>                     </th>     <td> </td>   \n",
       "</tr>\n",
       "</table>\n",
       "<table class=\"simpletable\">\n",
       "<tr>\n",
       "        <td></td>          <th>coef</th>     <th>std err</th>      <th>t</th>      <th>P>|t|</th>  <th>[0.025</th>    <th>0.975]</th>  \n",
       "</tr>\n",
       "<tr>\n",
       "  <th>1</th>            <td>    2.1716</td> <td>    0.305</td> <td>    7.121</td> <td> 0.000</td> <td>    1.573</td> <td>    2.770</td>\n",
       "</tr>\n",
       "<tr>\n",
       "  <th>Pclass</th>       <td>   -0.7399</td> <td>    0.200</td> <td>   -3.692</td> <td> 0.000</td> <td>   -1.133</td> <td>   -0.347</td>\n",
       "</tr>\n",
       "<tr>\n",
       "  <th>Age</th>          <td>   -0.0201</td> <td>    0.007</td> <td>   -2.748</td> <td> 0.006</td> <td>   -0.034</td> <td>   -0.006</td>\n",
       "</tr>\n",
       "<tr>\n",
       "  <th>Sex</th>          <td>   -0.3480</td> <td>    0.073</td> <td>   -4.762</td> <td> 0.000</td> <td>   -0.491</td> <td>   -0.205</td>\n",
       "</tr>\n",
       "<tr>\n",
       "  <th>SibSp</th>        <td>    0.0733</td> <td>    0.125</td> <td>    0.584</td> <td> 0.559</td> <td>   -0.173</td> <td>    0.320</td>\n",
       "</tr>\n",
       "<tr>\n",
       "  <th>Parch</th>        <td>    0.2676</td> <td>    0.103</td> <td>    2.590</td> <td> 0.010</td> <td>    0.065</td> <td>    0.470</td>\n",
       "</tr>\n",
       "<tr>\n",
       "  <th>Fare</th>         <td>   -0.0092</td> <td>    0.002</td> <td>   -4.144</td> <td> 0.000</td> <td>   -0.014</td> <td>   -0.005</td>\n",
       "</tr>\n",
       "<tr>\n",
       "  <th>Pclass^2</th>     <td>    0.0905</td> <td>    0.039</td> <td>    2.318</td> <td> 0.021</td> <td>    0.014</td> <td>    0.167</td>\n",
       "</tr>\n",
       "<tr>\n",
       "  <th>Pclass Age</th>   <td>    0.0029</td> <td>    0.002</td> <td>    1.617</td> <td> 0.106</td> <td>   -0.001</td> <td>    0.006</td>\n",
       "</tr>\n",
       "<tr>\n",
       "  <th>Pclass Sex</th>   <td>    0.1076</td> <td>    0.044</td> <td>    2.472</td> <td> 0.014</td> <td>    0.022</td> <td>    0.193</td>\n",
       "</tr>\n",
       "<tr>\n",
       "  <th>Pclass SibSp</th> <td>   -0.0842</td> <td>    0.043</td> <td>   -1.960</td> <td> 0.050</td> <td>   -0.169</td> <td>    0.000</td>\n",
       "</tr>\n",
       "<tr>\n",
       "  <th>Pclass Parch</th> <td>   -0.0632</td> <td>    0.037</td> <td>   -1.688</td> <td> 0.092</td> <td>   -0.137</td> <td>    0.010</td>\n",
       "</tr>\n",
       "<tr>\n",
       "  <th>Pclass Fare</th>  <td>    0.0040</td> <td>    0.001</td> <td>    3.271</td> <td> 0.001</td> <td>    0.002</td> <td>    0.006</td>\n",
       "</tr>\n",
       "<tr>\n",
       "  <th>Age^2</th>        <td>    0.0002</td> <td> 6.33e-05</td> <td>    2.443</td> <td> 0.015</td> <td> 3.04e-05</td> <td>    0.000</td>\n",
       "</tr>\n",
       "<tr>\n",
       "  <th>Age Sex</th>      <td>   -0.0048</td> <td>    0.002</td> <td>   -2.080</td> <td> 0.038</td> <td>   -0.009</td> <td>   -0.000</td>\n",
       "</tr>\n",
       "<tr>\n",
       "  <th>Age SibSp</th>    <td>    0.0024</td> <td>    0.001</td> <td>    1.660</td> <td> 0.097</td> <td>   -0.000</td> <td>    0.005</td>\n",
       "</tr>\n",
       "<tr>\n",
       "  <th>Age Parch</th>    <td>   -0.0048</td> <td>    0.002</td> <td>   -2.851</td> <td> 0.004</td> <td>   -0.008</td> <td>   -0.001</td>\n",
       "</tr>\n",
       "<tr>\n",
       "  <th>Age Fare</th>     <td> 8.299e-05</td> <td> 3.52e-05</td> <td>    2.356</td> <td> 0.019</td> <td> 1.38e-05</td> <td>    0.000</td>\n",
       "</tr>\n",
       "<tr>\n",
       "  <th>Sex^2</th>        <td>   -0.3480</td> <td>    0.073</td> <td>   -4.762</td> <td> 0.000</td> <td>   -0.491</td> <td>   -0.205</td>\n",
       "</tr>\n",
       "<tr>\n",
       "  <th>Sex SibSp</th>    <td>    0.0331</td> <td>    0.027</td> <td>    1.209</td> <td> 0.227</td> <td>   -0.021</td> <td>    0.087</td>\n",
       "</tr>\n",
       "<tr>\n",
       "  <th>Sex Parch</th>    <td>    0.0961</td> <td>    0.040</td> <td>    2.395</td> <td> 0.017</td> <td>    0.017</td> <td>    0.175</td>\n",
       "</tr>\n",
       "<tr>\n",
       "  <th>Sex Fare</th>     <td>    0.0004</td> <td>    0.001</td> <td>    0.597</td> <td> 0.551</td> <td>   -0.001</td> <td>    0.002</td>\n",
       "</tr>\n",
       "<tr>\n",
       "  <th>SibSp^2</th>      <td>    0.0015</td> <td>    0.009</td> <td>    0.166</td> <td> 0.868</td> <td>   -0.016</td> <td>    0.019</td>\n",
       "</tr>\n",
       "<tr>\n",
       "  <th>SibSp Parch</th>  <td>   -0.0008</td> <td>    0.026</td> <td>   -0.033</td> <td> 0.974</td> <td>   -0.052</td> <td>    0.050</td>\n",
       "</tr>\n",
       "<tr>\n",
       "  <th>SibSp Fare</th>   <td> 8.343e-05</td> <td>    0.001</td> <td>    0.140</td> <td> 0.889</td> <td>   -0.001</td> <td>    0.001</td>\n",
       "</tr>\n",
       "<tr>\n",
       "  <th>Parch^2</th>      <td>    0.0032</td> <td>    0.015</td> <td>    0.217</td> <td> 0.828</td> <td>   -0.026</td> <td>    0.032</td>\n",
       "</tr>\n",
       "<tr>\n",
       "  <th>Parch Fare</th>   <td>   -0.0007</td> <td>    0.001</td> <td>   -1.442</td> <td> 0.150</td> <td>   -0.002</td> <td>    0.000</td>\n",
       "</tr>\n",
       "<tr>\n",
       "  <th>Fare^2</th>       <td> 5.808e-06</td> <td> 2.12e-06</td> <td>    2.736</td> <td> 0.006</td> <td> 1.64e-06</td> <td> 9.97e-06</td>\n",
       "</tr>\n",
       "</table>\n",
       "<table class=\"simpletable\">\n",
       "<tr>\n",
       "  <th>Omnibus:</th>       <td>70.733</td> <th>  Durbin-Watson:     </th> <td>   1.961</td>\n",
       "</tr>\n",
       "<tr>\n",
       "  <th>Prob(Omnibus):</th> <td> 0.000</td> <th>  Jarque-Bera (JB):  </th> <td>  86.579</td>\n",
       "</tr>\n",
       "<tr>\n",
       "  <th>Skew:</th>          <td> 0.713</td> <th>  Prob(JB):          </th> <td>1.58e-19</td>\n",
       "</tr>\n",
       "<tr>\n",
       "  <th>Kurtosis:</th>      <td> 3.546</td> <th>  Cond. No.          </th> <td>1.08e+16</td>\n",
       "</tr>\n",
       "</table><br/><br/>Warnings:<br/>[1] Standard Errors assume that the covariance matrix of the errors is correctly specified.<br/>[2] The smallest eigenvalue is 2.4e-21. This might indicate that there are<br/>strong multicollinearity problems or that the design matrix is singular."
      ],
      "text/plain": [
       "<class 'statsmodels.iolib.summary.Summary'>\n",
       "\"\"\"\n",
       "                            OLS Regression Results                            \n",
       "==============================================================================\n",
       "Dep. Variable:               Survived   R-squared:                       0.455\n",
       "Model:                            OLS   Adj. R-squared:                  0.439\n",
       "Method:                 Least Squares   F-statistic:                     27.74\n",
       "Date:                Sat, 19 Sep 2020   Prob (F-statistic):           1.14e-95\n",
       "Time:                        23:29:08   Log-Likelihood:                -351.56\n",
       "No. Observations:                 891   AIC:                             757.1\n",
       "Df Residuals:                     864   BIC:                             886.5\n",
       "Df Model:                          26                                         \n",
       "Covariance Type:            nonrobust                                         \n",
       "================================================================================\n",
       "                   coef    std err          t      P>|t|      [0.025      0.975]\n",
       "--------------------------------------------------------------------------------\n",
       "1                2.1716      0.305      7.121      0.000       1.573       2.770\n",
       "Pclass          -0.7399      0.200     -3.692      0.000      -1.133      -0.347\n",
       "Age             -0.0201      0.007     -2.748      0.006      -0.034      -0.006\n",
       "Sex             -0.3480      0.073     -4.762      0.000      -0.491      -0.205\n",
       "SibSp            0.0733      0.125      0.584      0.559      -0.173       0.320\n",
       "Parch            0.2676      0.103      2.590      0.010       0.065       0.470\n",
       "Fare            -0.0092      0.002     -4.144      0.000      -0.014      -0.005\n",
       "Pclass^2         0.0905      0.039      2.318      0.021       0.014       0.167\n",
       "Pclass Age       0.0029      0.002      1.617      0.106      -0.001       0.006\n",
       "Pclass Sex       0.1076      0.044      2.472      0.014       0.022       0.193\n",
       "Pclass SibSp    -0.0842      0.043     -1.960      0.050      -0.169       0.000\n",
       "Pclass Parch    -0.0632      0.037     -1.688      0.092      -0.137       0.010\n",
       "Pclass Fare      0.0040      0.001      3.271      0.001       0.002       0.006\n",
       "Age^2            0.0002   6.33e-05      2.443      0.015    3.04e-05       0.000\n",
       "Age Sex         -0.0048      0.002     -2.080      0.038      -0.009      -0.000\n",
       "Age SibSp        0.0024      0.001      1.660      0.097      -0.000       0.005\n",
       "Age Parch       -0.0048      0.002     -2.851      0.004      -0.008      -0.001\n",
       "Age Fare      8.299e-05   3.52e-05      2.356      0.019    1.38e-05       0.000\n",
       "Sex^2           -0.3480      0.073     -4.762      0.000      -0.491      -0.205\n",
       "Sex SibSp        0.0331      0.027      1.209      0.227      -0.021       0.087\n",
       "Sex Parch        0.0961      0.040      2.395      0.017       0.017       0.175\n",
       "Sex Fare         0.0004      0.001      0.597      0.551      -0.001       0.002\n",
       "SibSp^2          0.0015      0.009      0.166      0.868      -0.016       0.019\n",
       "SibSp Parch     -0.0008      0.026     -0.033      0.974      -0.052       0.050\n",
       "SibSp Fare    8.343e-05      0.001      0.140      0.889      -0.001       0.001\n",
       "Parch^2          0.0032      0.015      0.217      0.828      -0.026       0.032\n",
       "Parch Fare      -0.0007      0.001     -1.442      0.150      -0.002       0.000\n",
       "Fare^2        5.808e-06   2.12e-06      2.736      0.006    1.64e-06    9.97e-06\n",
       "==============================================================================\n",
       "Omnibus:                       70.733   Durbin-Watson:                   1.961\n",
       "Prob(Omnibus):                  0.000   Jarque-Bera (JB):               86.579\n",
       "Skew:                           0.713   Prob(JB):                     1.58e-19\n",
       "Kurtosis:                       3.546   Cond. No.                     1.08e+16\n",
       "==============================================================================\n",
       "\n",
       "Warnings:\n",
       "[1] Standard Errors assume that the covariance matrix of the errors is correctly specified.\n",
       "[2] The smallest eigenvalue is 2.4e-21. This might indicate that there are\n",
       "strong multicollinearity problems or that the design matrix is singular.\n",
       "\"\"\""
      ]
     },
     "metadata": {},
     "output_type": "display_data"
    }
   ],
   "source": [
    "import statsmodels.api as sm\n",
    "results = sm.OLS(y, x_pol_df).fit()\n",
    "\n",
    "# We print the summary results\n",
    "display(results.summary())"
   ]
  },
  {
   "cell_type": "code",
   "execution_count": 23,
   "metadata": {},
   "outputs": [
    {
     "name": "stdout",
     "output_type": "stream",
     "text": [
      "One-vs.-Rest\n",
      "------------------------------\n",
      "Accuracy on Train Data : 0.82\n",
      "Accuracy on Test Data  : 0.80\n"
     ]
    }
   ],
   "source": [
    "\n",
    "\n",
    "log_reg = LogisticRegression(solver='lbfgs', multi_class=\"ovr\")\n",
    "\n",
    "from sklearn.model_selection import train_test_split\n",
    "\n",
    "y = df['Survived']\n",
    "X = x_pol_df[[\"Pclass\",\"Age\",\"Sex\",\"SibSp\",\"Parch\",\"Fare\",\"Pclass SibSp\",\"Age Parch\",\"Pclass Fare\"]]\n",
    "X_train, X_test, y_train, y_test =  train_test_split(X, y, test_size=0.20, random_state=111)\n",
    "\n",
    "log_reg.fit(X_train, y_train)\n",
    "\n",
    "train_accuracy = log_reg.score(X_train, y_train)\n",
    "test_accuracy = log_reg.score(X_test, y_test)\n",
    "\n",
    "print('One-vs.-Rest', '-'*30, \n",
    "      'Accuracy on Train Data : {:.2f}'.format(train_accuracy), \n",
    "      'Accuracy on Test Data  : {:.2f}'.format(test_accuracy), sep='\\n')"
   ]
  },
  {
   "cell_type": "code",
   "execution_count": 24,
   "metadata": {},
   "outputs": [
    {
     "data": {
      "text/html": [
       "<div>\n",
       "<style scoped>\n",
       "    .dataframe tbody tr th:only-of-type {\n",
       "        vertical-align: middle;\n",
       "    }\n",
       "\n",
       "    .dataframe tbody tr th {\n",
       "        vertical-align: top;\n",
       "    }\n",
       "\n",
       "    .dataframe thead th {\n",
       "        text-align: right;\n",
       "    }\n",
       "</style>\n",
       "<table border=\"1\" class=\"dataframe\">\n",
       "  <thead>\n",
       "    <tr style=\"text-align: right;\">\n",
       "      <th></th>\n",
       "      <th>C_values</th>\n",
       "      <th>Train Accuracy</th>\n",
       "      <th>Test Accuracy</th>\n",
       "    </tr>\n",
       "  </thead>\n",
       "  <tbody>\n",
       "    <tr>\n",
       "      <th>0</th>\n",
       "      <td>0.001</td>\n",
       "      <td>0.709270</td>\n",
       "      <td>0.720670</td>\n",
       "    </tr>\n",
       "    <tr>\n",
       "      <th>1</th>\n",
       "      <td>0.010</td>\n",
       "      <td>0.778090</td>\n",
       "      <td>0.810056</td>\n",
       "    </tr>\n",
       "    <tr>\n",
       "      <th>2</th>\n",
       "      <td>0.100</td>\n",
       "      <td>0.804775</td>\n",
       "      <td>0.798883</td>\n",
       "    </tr>\n",
       "    <tr>\n",
       "      <th>3</th>\n",
       "      <td>1.000</td>\n",
       "      <td>0.818820</td>\n",
       "      <td>0.810056</td>\n",
       "    </tr>\n",
       "    <tr>\n",
       "      <th>4</th>\n",
       "      <td>10.000</td>\n",
       "      <td>0.818820</td>\n",
       "      <td>0.798883</td>\n",
       "    </tr>\n",
       "    <tr>\n",
       "      <th>5</th>\n",
       "      <td>100.000</td>\n",
       "      <td>0.820225</td>\n",
       "      <td>0.798883</td>\n",
       "    </tr>\n",
       "    <tr>\n",
       "      <th>6</th>\n",
       "      <td>250.000</td>\n",
       "      <td>0.817416</td>\n",
       "      <td>0.804469</td>\n",
       "    </tr>\n",
       "    <tr>\n",
       "      <th>7</th>\n",
       "      <td>500.000</td>\n",
       "      <td>0.820225</td>\n",
       "      <td>0.798883</td>\n",
       "    </tr>\n",
       "    <tr>\n",
       "      <th>8</th>\n",
       "      <td>750.000</td>\n",
       "      <td>0.813202</td>\n",
       "      <td>0.821229</td>\n",
       "    </tr>\n",
       "    <tr>\n",
       "      <th>9</th>\n",
       "      <td>1000.000</td>\n",
       "      <td>0.817416</td>\n",
       "      <td>0.815642</td>\n",
       "    </tr>\n",
       "  </tbody>\n",
       "</table>\n",
       "</div>"
      ],
      "text/plain": [
       "   C_values  Train Accuracy  Test Accuracy\n",
       "0     0.001        0.709270       0.720670\n",
       "1     0.010        0.778090       0.810056\n",
       "2     0.100        0.804775       0.798883\n",
       "3     1.000        0.818820       0.810056\n",
       "4    10.000        0.818820       0.798883\n",
       "5   100.000        0.820225       0.798883\n",
       "6   250.000        0.817416       0.804469\n",
       "7   500.000        0.820225       0.798883\n",
       "8   750.000        0.813202       0.821229\n",
       "9  1000.000        0.817416       0.815642"
      ]
     },
     "metadata": {},
     "output_type": "display_data"
    }
   ],
   "source": [
    "C_values = [0.001,0.01, 0.1,1,10,100,250,500,750,1000]\n",
    "\n",
    "accuracy_values = pd.DataFrame(columns=['C_values', 'Train Accuracy', 'Test Accuracy'])\n",
    "\n",
    "for c in C_values:\n",
    "    # Apply logistic regression model to training data\n",
    "    lr = LogisticRegression(penalty = 'l2', C = c, random_state = 0, solver='lbfgs', multi_class='multinomial')\n",
    "    lr.fit(X_train, y_train)\n",
    "    accuracy_values = accuracy_values.append({'C_values': c,\n",
    "                                              'Train Accuracy': lr.score(X_train, y_train),\n",
    "                                              'Test Accuracy': lr.score(X_test, y_test)\n",
    "                                             }, ignore_index=True)\n",
    "display(accuracy_values)    "
   ]
  },
  {
   "cell_type": "code",
   "execution_count": 32,
   "metadata": {},
   "outputs": [
    {
     "data": {
      "text/plain": [
       "0.8132022471910112"
      ]
     },
     "execution_count": 32,
     "metadata": {},
     "output_type": "execute_result"
    }
   ],
   "source": [
    "lr = LogisticRegression(penalty = 'l2', C = 750, random_state = 0, solver='lbfgs', multi_class='multinomial')\n",
    "lr.fit(X_train, y_train)\n",
    "\n",
    "lr.score(X_train,y_train)"
   ]
  },
  {
   "cell_type": "code",
   "execution_count": 29,
   "metadata": {},
   "outputs": [
    {
     "data": {
      "text/plain": [
       "0.8212290502793296"
      ]
     },
     "execution_count": 29,
     "metadata": {},
     "output_type": "execute_result"
    }
   ],
   "source": [
    "lr.score(X_test,y_test)"
   ]
  },
  {
   "cell_type": "markdown",
   "metadata": {},
   "source": [
    "# ----------------------------------------------------------------\n",
    "\n",
    "# A_03_PerformanceMeasurementMetrics\n",
    "\n",
    "# ----------------------------------------------------------------"
   ]
  },
  {
   "cell_type": "code",
   "execution_count": 30,
   "metadata": {},
   "outputs": [],
   "source": [
    "import pandas as pd\n",
    "import numpy as np\n",
    "\n",
    "from sklearn import datasets\n",
    "from sklearn.model_selection import train_test_split\n",
    "from sklearn.linear_model import LogisticRegression\n",
    "\n",
    "import warnings\n",
    "warnings.filterwarnings('ignore')"
   ]
  },
  {
   "cell_type": "code",
   "execution_count": null,
   "metadata": {},
   "outputs": [],
   "source": [
    "cancer = datasets.load_breast_cancer()\n",
    "X_train, X_test, y_train, y_test = train_test_split(cancer.data, cancer.target, \n",
    "                                                    test_size=0.20, random_state=111)\n",
    "cancer_prediction_model = LogisticRegression()\n",
    "cancer_prediction_model.fit(X_train, y_train)\n",
    "\n",
    "train_prediction = cancer_prediction_model.predict(X_train)\n",
    "test_prediction = cancer_prediction_model.predict(X_test)\n",
    "\n",
    "test_prediction_probability = cancer_prediction_model.predict_proba(X_test)[:,1]"
   ]
  },
  {
   "cell_type": "code",
   "execution_count": 36,
   "metadata": {},
   "outputs": [],
   "source": [
    "y = df['Survived']\n",
    "X = x_pol_df[[\"Pclass\",\"Age\",\"Sex\",\"SibSp\",\"Parch\",\"Fare\",\"Pclass SibSp\",\"Age Parch\",\"Pclass Fare\"]]\n",
    "X_train, X_test, y_train, y_test =  train_test_split(X, y, test_size=0.20, random_state=111)\n",
    "\n",
    "lr = LogisticRegression(penalty = 'l2', C = c, random_state = 0, solver='lbfgs', multi_class='multinomial')\n",
    "lr.fit(X_train, y_train)\n",
    "\n",
    "\n",
    "train_prediction = lr.predict(X_train)\n",
    "test_prediction = lr.predict(X_test)\n",
    "\n",
    "test_prediction_probability = lr.predict_proba(X_test)[:,1]"
   ]
  },
  {
   "cell_type": "code",
   "execution_count": 37,
   "metadata": {},
   "outputs": [],
   "source": [
    "from sklearn.metrics import confusion_matrix\n",
    "\n",
    "confusion_matrix_train = confusion_matrix(y_train, train_prediction)\n",
    "confusion_matrix_test = confusion_matrix(y_test, test_prediction)"
   ]
  },
  {
   "cell_type": "code",
   "execution_count": 38,
   "metadata": {},
   "outputs": [
    {
     "name": "stdout",
     "output_type": "stream",
     "text": [
      "Confusion Matrix (Train Data)\n",
      "------------------------------\n",
      "[[391  45]\n",
      " [ 85 191]]\n",
      "\n",
      "\n",
      "Confusion Matrix (Test Data)\n",
      "------------------------------\n",
      "[[102  11]\n",
      " [ 22  44]]\n"
     ]
    }
   ],
   "source": [
    "print(\"Confusion Matrix (Train Data)\", \"-\"*30, confusion_matrix_train, sep=\"\\n\")\n",
    "print(\"\\n\\nConfusion Matrix (Test Data)\", \"-\"*30, confusion_matrix_test, sep=\"\\n\")"
   ]
  },
  {
   "cell_type": "code",
   "execution_count": 42,
   "metadata": {},
   "outputs": [
    {
     "name": "stdout",
     "output_type": "stream",
     "text": [
      "Calculated F1 score  :  0.7272727272727272\n",
      "f1_score() value     :  0.7272727272727272\n"
     ]
    }
   ],
   "source": [
    "from sklearn.metrics import f1_score\n",
    "from sklearn.metrics import precision_score\n",
    "from sklearn.metrics import recall_score\n",
    "\n",
    "precision = precision_score(y_test, test_prediction)\n",
    "recall = recall_score(y_test, test_prediction)\n",
    "\n",
    "\n",
    "print(\"Calculated F1 score  : \",  2*((recall*precision)/(recall + precision)))\n",
    "print(\"f1_score() value     : \",  f1_score(y_test, test_prediction))"
   ]
  },
  {
   "cell_type": "code",
   "execution_count": 43,
   "metadata": {},
   "outputs": [],
   "source": [
    "test_prediction_proba = lr.predict_proba(X_test)[:,1]"
   ]
  },
  {
   "cell_type": "code",
   "execution_count": 44,
   "metadata": {},
   "outputs": [
    {
     "data": {
      "image/png": "[encoded data removed]",
      "text/plain": [
       "<Figure size 432x288 with 1 Axes>"
      ]
     },
     "metadata": {
      "needs_background": "light"
     },
     "output_type": "display_data"
    }
   ],
   "source": [
    "from sklearn.metrics import roc_curve, roc_auc_score\n",
    "\n",
    "fpr, tpr, thresholds  = roc_curve(y_test, test_prediction_proba)\n",
    "\n",
    "import matplotlib.pyplot as plt\n",
    "# Plot ROC curve\n",
    "plt.plot([0, 1], [0, 1], 'k--')\n",
    "plt.plot(fpr, tpr)\n",
    "\n",
    "plt.xlabel('False Positive Ratio')\n",
    "plt.ylabel('True Positive Ratio')\n",
    "plt.title('ROC Curve')\n",
    "\n",
    "plt.show()"
   ]
  },
  {
   "cell_type": "code",
   "execution_count": 45,
   "metadata": {},
   "outputs": [
    {
     "name": "stdout",
     "output_type": "stream",
     "text": [
      "AUC value :  0.8212657548940735\n"
     ]
    }
   ],
   "source": [
    "print('AUC value : ', roc_auc_score(y_test, test_prediction_proba))\n"
   ]
  },
  {
   "cell_type": "code",
   "execution_count": null,
   "metadata": {},
   "outputs": [],
   "source": []
  }
 ],
 "metadata": {
  "kernelspec": {
   "display_name": "Python 3",
   "language": "python",
   "name": "python3"
  },
  "language_info": {
   "codemirror_mode": {
    "name": "ipython",
    "version": 3
   },
   "file_extension": ".py",
   "mimetype": "text/x-python",
   "name": "python",
   "nbconvert_exporter": "python",
   "pygments_lexer": "ipython3",
   "version": "3.8.3"
  },
  "latex_envs": {
   "LaTeX_envs_menu_present": true,
   "autoclose": false,
   "autocomplete": true,
   "bibliofile": "biblio.bib",
   "cite_by": "apalike",
   "current_citInitial": 1,
   "eqLabelWithNumbers": true,
   "eqNumInitial": 1,
   "hotkeys": {
    "equation": "Ctrl-E",
    "itemize": "Ctrl-I"
   },
   "labels_anchors": false,
   "latex_user_defs": false,
   "report_style_numbering": false,
   "user_envs_cfg": false
  },
  "varInspector": {
   "cols": {
    "lenName": 16,
    "lenType": 16,
    "lenVar": 40
   },
   "kernels_config": {
    "python": {
     "delete_cmd_postfix": "",
     "delete_cmd_prefix": "del ",
     "library": "var_list.py",
     "varRefreshCmd": "print(var_dic_list())"
    },
    "r": {
     "delete_cmd_postfix": ") ",
     "delete_cmd_prefix": "rm(",
     "library": "var_list.r",
     "varRefreshCmd": "cat(var_dic_list()) "
    }
   },
   "types_to_exclude": [
    "module",
    "function",
    "builtin_function_or_method",
    "instance",
    "_Feature"
   ],
   "window_display": false
  }
 },
 "nbformat": 4,
 "nbformat_minor": 4
}
