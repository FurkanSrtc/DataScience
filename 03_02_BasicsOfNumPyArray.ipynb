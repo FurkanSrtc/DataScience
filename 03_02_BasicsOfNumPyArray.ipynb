{
 "cells": [
  {
   "cell_type": "markdown",
   "metadata": {},
   "source": [
    "# <font color=blue>Assignments for \"basics of NumPy Array\"</font>"
   ]
  },
  {
   "cell_type": "markdown",
   "metadata": {},
   "source": [
    "1. Create 3 lists representing house features, each list containing 10 values. First one for squaremeter of house, second one for rooms and last one for price. Then, create an array combining these lists."
   ]
  },
  {
   "cell_type": "code",
   "execution_count": 1,
   "metadata": {},
   "outputs": [],
   "source": [
    "import numpy as np\n",
    "\n",
    "squaremeter = np.array([150, 200, 100, 90, 80, 95, 120, 300, 220, 180])\n",
    "rooms = np.array([1,3,4,5,4,3,1,5,6,2])\n",
    "price = np.array([180000,240000,350000,650000,655111,950000,450000,2560000,688880,600000])\n",
    "arr=np.array([squaremeter,rooms,price])\n"
   ]
  },
  {
   "cell_type": "markdown",
   "metadata": {},
   "source": [
    "2. Transpose the array you have created, so that every line can represent features of one house."
   ]
  },
  {
   "cell_type": "code",
   "execution_count": 2,
   "metadata": {},
   "outputs": [
    {
     "data": {
      "text/plain": [
       "array([[    150,       1,  180000],\n",
       "       [    200,       3,  240000],\n",
       "       [    100,       4,  350000],\n",
       "       [     90,       5,  650000],\n",
       "       [     80,       4,  655111],\n",
       "       [     95,       3,  950000],\n",
       "       [    120,       1,  450000],\n",
       "       [    300,       5, 2560000],\n",
       "       [    220,       6,  688880],\n",
       "       [    180,       2,  600000]])"
      ]
     },
     "execution_count": 2,
     "metadata": {},
     "output_type": "execute_result"
    }
   ],
   "source": [
    "arr.transpose()"
   ]
  },
  {
   "cell_type": "markdown",
   "metadata": {},
   "source": [
    "3. Display the shape of the array and explain what it means."
   ]
  },
  {
   "cell_type": "code",
   "execution_count": 3,
   "metadata": {},
   "outputs": [
    {
     "data": {
      "text/plain": [
       "(3, 10)"
      ]
     },
     "execution_count": 3,
     "metadata": {},
     "output_type": "execute_result"
    }
   ],
   "source": [
    "arr.shape  ##we see how many rows and columns our data consists of"
   ]
  },
  {
   "cell_type": "markdown",
   "metadata": {},
   "source": [
    "4. Write a function that returns an array of ones with zeros where both row and column numbers are even. Sample array is below. Number of rows and columns will be entered as parameters.\n",
    "\n",
    "```python\n",
    "    shape(6 x 5) --> [[1   1   1   1   1]\n",
    "                      [1   0   1   0   1]\n",
    "                      [1   1   1   1   1]\n",
    "                      [1   0   1   0   1]\n",
    "                      [1   1   1   1   1]\n",
    "                      [1   0   1   0   1]]\n",
    "```"
   ]
  },
  {
   "cell_type": "code",
   "execution_count": 7,
   "metadata": {},
   "outputs": [
    {
     "name": "stdout",
     "output_type": "stream",
     "text": [
      "[[1 1 1 1 1]\n",
      " [1 0 1 0 1]\n",
      " [1 1 1 1 1]\n",
      " [1 0 1 0 1]\n",
      " [1 1 1 1 1]\n",
      " [1 0 1 0 1]]\n"
     ]
    }
   ],
   "source": [
    "def tab(row,column):\n",
    "    arr= list()#np.full((row,column),1)\n",
    "\n",
    "    for x in range(1,row+1):\n",
    "        for y in range(1,column+1):\n",
    "            if(x%2==0 and y%2==0): \n",
    "                arr.append(0)\n",
    "            else: \n",
    "                arr.append(1)\n",
    "            \n",
    "    arr=np.array(arr)\n",
    "    print(arr.reshape(row,column))\n",
    "tab(6,5)"
   ]
  },
  {
   "cell_type": "code",
   "execution_count": null,
   "metadata": {},
   "outputs": [],
   "source": []
  }
 ],
 "metadata": {
  "kernelspec": {
   "display_name": "Python 3",
   "language": "python",
   "name": "python3"
  },
  "language_info": {
   "codemirror_mode": {
    "name": "ipython",
    "version": 3
   },
   "file_extension": ".py",
   "mimetype": "text/x-python",
   "name": "python",
   "nbconvert_exporter": "python",
   "pygments_lexer": "ipython3",
   "version": "3.8.3"
  }
 },
 "nbformat": 4,
 "nbformat_minor": 4
}
