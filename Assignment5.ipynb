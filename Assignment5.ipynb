{
 "cells": [
  {
   "cell_type": "markdown",
   "metadata": {},
   "source": [
    "### 1-Create a dictionary with 7 days. Ask the user to choose 2 different days by listing the (e.g. \"12\" for Monday and Tuesday). Delete the user-selected days from the dictionary and print the remaining 5 days on the screen."
   ]
  },
  {
   "cell_type": "code",
   "execution_count": 1,
   "metadata": {},
   "outputs": [
    {
     "name": "stdout",
     "output_type": "stream",
     "text": [
      "{'1': 'Monday', '2': 'Tuesday', '3': 'Wednesday', '4': 'Thursday', '5': 'Friday', '6': 'Saturday', '7': 'Sunday'}\n",
      "select 2 days: 12\n",
      "{'3': 'Wednesday', '4': 'Thursday', '5': 'Friday', '6': 'Saturday', '7': 'Sunday'}\n"
     ]
    }
   ],
   "source": [
    "days = {\n",
    "        \"1\": \"Monday\",\n",
    "        \"2\": \"Tuesday\",\n",
    "        \"3\": \"Wednesday\",\n",
    "        \"4\": \"Thursday\",\n",
    "        \"5\": \"Friday\",\n",
    "        \"6\": \"Saturday\",\n",
    "        \"7\": \"Sunday\"}\n",
    "\n",
    "print(days)\n",
    "val=input(\"select 2 days: \")\n",
    "\n",
    "del days[val[0]] \n",
    "del days[val[1]] \n",
    "\n",
    "print(days)"
   ]
  },
  {
   "cell_type": "markdown",
   "metadata": {},
   "source": [
    "#### Create a dictionary with the following personnel. Use names as keys. Add child information to Michael and Linda. Michael has two children (Karen (age : 12, female) and Greg (age : 7, male) and Linda has one child (Susan (age: 6, female)) Print the names of Michael's children in a list.\n"
   ]
  },
  {
   "cell_type": "code",
   "execution_count": null,
   "metadata": {},
   "outputs": [],
   "source": [
    "humans = {\n",
    "        \"John\": [25,\"Male\"],\n",
    "        \"Lisa\": [25,\"Female\"],\n",
    "        \"Linda\": [25,\"Female\",[\"Susan\",6,\"Female\"]],\n",
    "        \"Michael\": [25,\"Male\",[\"Karen\",25,\"Female\"],[\"Greg\",7,\"Male\"]],\n",
    "    }\n",
    "\n",
    "print(humans[\"Linda\"][2])\n",
    "print(humans[\"Michael\"][2][0],humans[\"Michael\"][3][0])\n",
    "\n",
    "\n",
    "\n",
    "\n",
    "\n"
   ]
  }
 ],
 "metadata": {
  "kernelspec": {
   "display_name": "Python 3",
   "language": "python",
   "name": "python3"
  },
  "language_info": {
   "codemirror_mode": {
    "name": "ipython",
    "version": 3
   },
   "file_extension": ".py",
   "mimetype": "text/x-python",
   "name": "python",
   "nbconvert_exporter": "python",
   "pygments_lexer": "ipython3",
   "version": "3.8.3"
  }
 },
 "nbformat": 4,
 "nbformat_minor": 4
}
