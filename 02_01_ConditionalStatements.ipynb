{
 "cells": [
  {
   "cell_type": "markdown",
   "metadata": {},
   "source": [
    "# Assignments for \"Conditional Statements\""
   ]
  },
  {
   "cell_type": "markdown",
   "metadata": {},
   "source": [
    "1. Please get Celcius or Fahrenheit degrees from users and type a code to convert these heat units to each other.  \n",
    "    For conversion, please use this formula: C = (5/9) * (F - 32)\n",
    "    \n",
    "        Example : \"40C\" --> \"104F\"\n",
    "                  \"52F\" --> \"11.1C\""
   ]
  },
  {
   "cell_type": "code",
   "execution_count": 26,
   "metadata": {},
   "outputs": [
    {
     "name": "stdout",
     "output_type": "stream",
     "text": [
      "Temperature : 100C\n",
      "212.0 F\n"
     ]
    }
   ],
   "source": [
    "temp=input(\"Temperature : \")\n",
    "\n",
    "if(\"C\" in temp):\n",
    "    print(((int(temp[:-1])*1.8000)+32.00),\"F\")\n",
    "elif (\"F\" in temp):\n",
    "    print((5/9)*(int(temp[:-1])-32),\"C\")\n",
    "else:\n",
    "    print(\"Error\")"
   ]
  },
  {
   "cell_type": "markdown",
   "metadata": {},
   "source": [
    "2. A company decided to give a bonus of 5% to the employees if his/her year of service is more than 5 years.\n",
    "Ask the user for their salary and year of service and print the net bonus amount."
   ]
  },
  {
   "cell_type": "code",
   "execution_count": 30,
   "metadata": {},
   "outputs": [
    {
     "name": "stdout",
     "output_type": "stream",
     "text": [
      "salary : 1000\n",
      "year of service: 5\n",
      "1000\n"
     ]
    }
   ],
   "source": [
    "salary=input(\"salary : \")\n",
    "year=input(\"year of service: \" )\n",
    "if(int(year)>5):\n",
    "    print(float(salary)*1.05)\n",
    "else:\n",
    "    print(salary)\n"
   ]
  },
  {
   "cell_type": "markdown",
   "metadata": {},
   "source": [
    "3. Take input of ages of 3 people by the user and determine the oldest and youngest among them."
   ]
  },
  {
   "cell_type": "code",
   "execution_count": 32,
   "metadata": {},
   "outputs": [
    {
     "name": "stdout",
     "output_type": "stream",
     "text": [
      "yaş giriniz5\n",
      "yaş giriniz6\n",
      "yaş giriniz7\n"
     ]
    },
    {
     "data": {
      "text/plain": [
       "7"
      ]
     },
     "execution_count": 32,
     "metadata": {},
     "output_type": "execute_result"
    }
   ],
   "source": [
    "yaslar = [int(input(\"yaş giriniz\")) for i in range(3)] \n",
    "max(yaslar)"
   ]
  },
  {
   "cell_type": "markdown",
   "metadata": {},
   "source": [
    "4. A student will not be allowed to attend to the exam if his / her attendance to classes is less than 75%. Take followings input from the user:\n",
    "    - Number of classes held,\n",
    "    - Number of classes attended.\n",
    "   \n",
    "    Then, print the percentage of classes attended and whether the student is allowed to attend in an exam or not."
   ]
  },
  {
   "cell_type": "code",
   "execution_count": 42,
   "metadata": {},
   "outputs": [
    {
     "name": "stdout",
     "output_type": "stream",
     "text": [
      "Number of classes held100\n",
      "Number of classes attended50\n",
      "75.0  not allowed\n"
     ]
    }
   ],
   "source": [
    "held=input(\"Number of classes held\")\n",
    "attended=input(\"Number of classes attended\")\n",
    "per=(int(held)*0.75)\n",
    "\n",
    "if(per<int(attended)):\n",
    "    print(per,\" allowed\")\n",
    "else:\n",
    "    print(per,\" not allowed\")"
   ]
  },
  {
   "cell_type": "markdown",
   "metadata": {},
   "source": [
    "5. In this exercise, you will create a program that reads a letter of the alphabet from the user. According to the answer:\n",
    "\n",
    "    - If the user enters `a, e, i, o, u`, then your program should display a message indicating that the entered letter is a vowel.\n",
    "    - If the user enters `y`, then your program should display a message indicating that y is sometimes a vowel and sometimes a consonant.\n",
    "    - Otherwise, your program should display a message indicating that the letter is a consonant."
   ]
  },
  {
   "cell_type": "code",
   "execution_count": 53,
   "metadata": {},
   "outputs": [
    {
     "name": "stdout",
     "output_type": "stream",
     "text": [
      "enter key: y\n",
      "sometimes a vowel and sometimes a consonant.\n"
     ]
    }
   ],
   "source": [
    "val=input(\"enter key: \")\n",
    "if(val==\"a\" or val==\"e\" or val==\"i\" or val==\"u\"):\n",
    "    print(\"letter is a vowel.\")\n",
    "elif (val==\"y\"):\n",
    "    print(\"sometimes a vowel and sometimes a consonant.\")\n",
    "else:\n",
    "    print(\"consonant\")"
   ]
  }
 ],
 "metadata": {
  "kernelspec": {
   "display_name": "Python 3",
   "language": "python",
   "name": "python3"
  },
  "language_info": {
   "codemirror_mode": {
    "name": "ipython",
    "version": 3
   },
   "file_extension": ".py",
   "mimetype": "text/x-python",
   "name": "python",
   "nbconvert_exporter": "python",
   "pygments_lexer": "ipython3",
   "version": "3.8.3"
  }
 },
 "nbformat": 4,
 "nbformat_minor": 4
}
