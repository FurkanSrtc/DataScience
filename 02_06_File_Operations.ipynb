{
 "cells": [
  {
   "cell_type": "markdown",
   "metadata": {},
   "source": [
    "# Assignments for \"File Operations\""
   ]
  },
  {
   "cell_type": "markdown",
   "metadata": {},
   "source": [
    "1. Please write a poem you wanted in a `.txt` file and save it to the disk."
   ]
  },
  {
   "cell_type": "code",
   "execution_count": 10,
   "metadata": {},
   "outputs": [
    {
     "data": {
      "text/plain": [
       "123"
      ]
     },
     "execution_count": 10,
     "metadata": {},
     "output_type": "execute_result"
    }
   ],
   "source": [
    "file = open('poem.txt', 'w')\n",
    "poem=\"\"\"Yaşadığım her şeyden bir ders çıkardım\\n\n",
    "Hiçbirini atmadım, sakladım\\n\n",
    "Kimini zihnimde\\n\n",
    "Kimini fikrimde\\n\n",
    "Kimini de yüreğimde…\"\"\"\n",
    "file.write(poem)"
   ]
  },
  {
   "cell_type": "markdown",
   "metadata": {},
   "source": [
    "2. Append a new poem into the file you have created."
   ]
  },
  {
   "cell_type": "code",
   "execution_count": 11,
   "metadata": {},
   "outputs": [],
   "source": [
    "poem=\"\"\"geldim,\\n\n",
    "kaldım,\\n\n",
    "güldüm,\\n\n",
    "öldüm…\\n\n",
    "-Nazım Hikmet\"\"\"\n",
    "file.write(poem)\n",
    "file.close()"
   ]
  },
  {
   "cell_type": "markdown",
   "metadata": {},
   "source": [
    "3. Read and print all poems."
   ]
  },
  {
   "cell_type": "code",
   "execution_count": 12,
   "metadata": {},
   "outputs": [
    {
     "name": "stdout",
     "output_type": "stream",
     "text": [
      "Yaşadığım her şeyden bir ders çıkardım\n",
      "\n",
      "\n",
      "\n",
      "Hiçbirini atmadım, sakladım\n",
      "\n",
      "\n",
      "\n",
      "Kimini zihnimde\n",
      "\n",
      "\n",
      "\n",
      "Kimini fikrimde\n",
      "\n",
      "\n",
      "\n",
      "Kimini de yüreğimde…geldim,\n",
      "\n",
      "\n",
      "\n",
      "kaldım,\n",
      "\n",
      "\n",
      "\n",
      "güldüm,\n",
      "\n",
      "\n",
      "\n",
      "öldüm…\n",
      "\n",
      "\n",
      "\n",
      "-Nazım Hikmet\n"
     ]
    }
   ],
   "source": [
    "for satir in open('poem.txt', 'r'):  \n",
    "    print(satir)"
   ]
  },
  {
   "cell_type": "code",
   "execution_count": null,
   "metadata": {},
   "outputs": [],
   "source": []
  }
 ],
 "metadata": {
  "kernelspec": {
   "display_name": "Python 3",
   "language": "python",
   "name": "python3"
  },
  "language_info": {
   "codemirror_mode": {
    "name": "ipython",
    "version": 3
   },
   "file_extension": ".py",
   "mimetype": "text/x-python",
   "name": "python",
   "nbconvert_exporter": "python",
   "pygments_lexer": "ipython3",
   "version": "3.8.3"
  }
 },
 "nbformat": 4,
 "nbformat_minor": 4
}
