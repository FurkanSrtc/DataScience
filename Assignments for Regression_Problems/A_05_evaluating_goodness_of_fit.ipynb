{
 "cells": [
  {
   "cell_type": "markdown",
   "metadata": {},
   "source": [
    "# <font color=blue>Assignments for \"Evaluating Goodness of Fit\"</font>"
   ]
  },
  {
   "cell_type": "markdown",
   "metadata": {},
   "source": [
    "As in previous lessons, please submit a link to a single gist that contains links to two Juypyter notebooks (one for each assignment below)."
   ]
  },
  {
   "cell_type": "markdown",
   "metadata": {},
   "source": [
    "## 1. Weather model\n",
    "\n",
    "For this assignment, you'll revisit the historical temperature dataset. To complete this assignment, submit a link in the gist file to the Jupyter notebook containing your solutions to the following tasks:\n",
    "\n",
    "- Load the **weather** data from Kaggle\n",
    "- Like in the previous lesson, build a linear regression model where your target variable is the difference between the *apparenttemperature* and the *temperature*. As explanatory variables, use *humidity* and *windspeed*. Now, estimate your model using OLS. What are the R-squared and adjusted R-squared values? Do you think they are satisfactory? Why? \n",
    "- Next, include the interaction of *humidity* and *windspeed* to the model above and estimate the model using OLS. Now, what is the R-squared of this model? Does this model improve upon the previous one? \n",
    "- Add *visibility* as additional explanatory variable to the first model and estimate it. Did R-squared increase? What about adjusted R-squared? Compare the differences put on the table by the interaction term and the *visibility* in terms of the improvement in the adjusted R-squared. Which one is more useful?\n",
    "- Choose the best one from the three models above with respect to their AIC and BIC scores. Validate your choice by discussing your justification with your mentor."
   ]
  },
  {
   "cell_type": "markdown",
   "metadata": {},
   "source": [
    "https://github.com/FurkanSrtc/PythonExams/blob/master/Assignments%20for%20Regression_Problems/A_04_understanding_the_relationship.ipynb\n",
    "\n",
    ">R-Squared values has increased the but not enough. Generally preferred are high r-square values and low AIC and BIC values. That's why we prefer the second method."
   ]
  },
  {
   "cell_type": "markdown",
   "metadata": {},
   "source": [
    "##  2. House prices model\n",
    "\n",
    "In this exercise, you'll work on your house prices model. To complete this assignment, submit a link in the gist file to the Jupyter notebook containing your solutions to the following tasks:\n",
    "\n",
    "- Load the **houseprices** data from Kaggle.\n",
    "- Run your house prices model again and assess the goodness of fit of your model using F-test, R-squared, adjusted R-squared, AIC and BIC.\n",
    "- Do you think your model is satisfactory? If so, why?\n",
    "- In order to improve the goodness of fit of your model, try different model specifications by adding or removing some variables. \n",
    "- For each model you try, get the goodness of fit metrics and compare your models with each other. Which model is the best and why?"
   ]
  },
  {
   "cell_type": "markdown",
   "metadata": {},
   "source": [
    "https://github.com/FurkanSrtc/PythonExams/blob/master/Assignments%20for%20Regression_Problems/A_02_simple_linear_regression_models.ipynb\n",
    " \n",
    " (Step 4)\n",
    "\n",
    "> Initially, the r square value was 0.755 AIC: 3.505 BIC: BIC: 3.510. After making various additions and subtractions to the model, the R-square reached: 0.969 AIC: 3468 BIC: 3.474. In this model, our aim is to increase the R square value and decrease the AIC, BIC values. In the second method, the second method is preferred because the r value is higher and the AIC and BIC values are lower."
   ]
  },
  {
   "cell_type": "code",
   "execution_count": null,
   "metadata": {},
   "outputs": [],
   "source": []
  }
 ],
 "metadata": {
  "kernelspec": {
   "display_name": "Python 3",
   "language": "python",
   "name": "python3"
  },
  "language_info": {
   "codemirror_mode": {
    "name": "ipython",
    "version": 3
   },
   "file_extension": ".py",
   "mimetype": "text/x-python",
   "name": "python",
   "nbconvert_exporter": "python",
   "pygments_lexer": "ipython3",
   "version": "3.8.3"
  }
 },
 "nbformat": 4,
 "nbformat_minor": 4
}
