{
 "cells": [
  {
   "cell_type": "markdown",
   "metadata": {},
   "source": [
    "# <font color=blue>Assignments for \"Making Predictions\"</font>"
   ]
  },
  {
   "cell_type": "markdown",
   "metadata": {},
   "source": [
    "In this exercise, you'll predict house prices using your model. To complete this assignment, submit a link to a Jupyter notebook containing your solutions to the following tasks:\n",
    "\n",
    "- Load the **houseprices** data from Kaggle\n",
    "- Split your data into train and test sets.\n",
    "- Estimate your model from the previous lesson in the train set. Assess the goodness of fit of your model.\n",
    "- Predict the house prices in the test set and evaluate the performance of your model using the metrics we mentioned in this lesson.\n",
    "- Is the performance of your model satisfactory? Why?\n",
    "- Try to improve your model in terms of prediction performance by adding or removing some variables."
   ]
  },
  {
   "cell_type": "markdown",
   "metadata": {},
   "source": [
    "https://github.com/FurkanSrtc/PythonExams/blob/master/Assignments%20for%20Regression_Problems/A_02_simple_linear_regression_models.ipynb\n",
    "\n",
    "(Step 6)"
   ]
  },
  {
   "cell_type": "code",
   "execution_count": null,
   "metadata": {},
   "outputs": [],
   "source": []
  }
 ],
 "metadata": {
  "kernelspec": {
   "display_name": "Python 3",
   "language": "python",
   "name": "python3"
  },
  "language_info": {
   "codemirror_mode": {
    "name": "ipython",
    "version": 3
   },
   "file_extension": ".py",
   "mimetype": "text/x-python",
   "name": "python",
   "nbconvert_exporter": "python",
   "pygments_lexer": "ipython3",
   "version": "3.8.3"
  }
 },
 "nbformat": 4,
 "nbformat_minor": 4
}
